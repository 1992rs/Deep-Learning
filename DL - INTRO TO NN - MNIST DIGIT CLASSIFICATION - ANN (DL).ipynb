{
 "cells": [
  {
   "cell_type": "code",
   "execution_count": null,
   "metadata": {},
   "outputs": [],
   "source": [
    " "
   ]
  },
  {
   "cell_type": "code",
   "execution_count": null,
   "metadata": {
    "colab": {
     "base_uri": "https://localhost:8080/",
     "height": 79
    },
    "colab_type": "code",
    "id": "vA5_mIo78Afu",
    "outputId": "2b912d3b-2c43-48d6-a973-7d67a7c564bb"
   },
   "outputs": [],
   "source": [
    "import numpy as np\n",
    "import pandas as pd\n",
    "from sklearn import metrics\n",
    "import matplotlib.pyplot as plt\n",
    "%matplotlib inline\n",
    "\n",
    "# Using Tensorflow Keras instead of the original Keras\n",
    "\n",
    "from tensorflow.keras.datasets import mnist\n",
    "from tensorflow.keras import Sequential\n",
    "from tensorflow.keras.layers import Dense"
   ]
  },
  {
   "cell_type": "code",
   "execution_count": null,
   "metadata": {
    "colab": {
     "base_uri": "https://localhost:8080/",
     "height": 50
    },
    "colab_type": "code",
    "id": "tEKugk2a8Afy",
    "outputId": "9f64fae2-4026-4f4c-c109-8da64609301d"
   },
   "outputs": [],
   "source": [
    "(xtrain,ytrain),(xtest,ytest)=mnist.load_data()"
   ]
  },
  {
   "cell_type": "code",
   "execution_count": null,
   "metadata": {
    "colab": {
     "base_uri": "https://localhost:8080/",
     "height": 34
    },
    "colab_type": "code",
    "id": "kwGbI1p18Af0",
    "outputId": "cb47c15e-adcc-441c-f5aa-7252b6cd0072"
   },
   "outputs": [],
   "source": [
    "xtrain.shape"
   ]
  },
  {
   "cell_type": "code",
   "execution_count": null,
   "metadata": {
    "colab": {},
    "colab_type": "code",
    "id": "hT3TVhgF8Af3",
    "outputId": "ae54b4f0-3d2b-4b6d-b965-7bd7ab67901c"
   },
   "outputs": [],
   "source": [
    "plt.imshow(xtrain[1,:,:],cmap='gray')"
   ]
  },
  {
   "cell_type": "code",
   "execution_count": null,
   "metadata": {
    "colab": {},
    "colab_type": "code",
    "id": "OGFV6ECu8Af5",
    "outputId": "444c723b-941c-4022-f844-bf0dba5c5df8"
   },
   "outputs": [],
   "source": [
    "ytrain[1]"
   ]
  },
  {
   "cell_type": "code",
   "execution_count": null,
   "metadata": {
    "colab": {},
    "colab_type": "code",
    "id": "J3RndLvO8Af8",
    "outputId": "f17546ed-c00f-475f-b170-31468e63981f"
   },
   "outputs": [],
   "source": [
    "plt.imshow(xtest[0,:,:],cmap='gray')"
   ]
  },
  {
   "cell_type": "code",
   "execution_count": null,
   "metadata": {
    "colab": {},
    "colab_type": "code",
    "id": "rWKzG0Uz8Af-",
    "outputId": "8f215039-f335-453c-9204-90700ce46dd1"
   },
   "outputs": [],
   "source": [
    "ytrain[:50]"
   ]
  },
  {
   "cell_type": "code",
   "execution_count": null,
   "metadata": {
    "colab": {
     "base_uri": "https://localhost:8080/",
     "height": 202
    },
    "colab_type": "code",
    "id": "eUlVvVev8AgA",
    "outputId": "4c1dcd9f-522e-43b5-b2be-a0d7ae436908"
   },
   "outputs": [],
   "source": [
    "L=pd.DataFrame(ytrain)\n",
    "L[0].value_counts()"
   ]
  },
  {
   "cell_type": "code",
   "execution_count": null,
   "metadata": {
    "colab": {},
    "colab_type": "code",
    "id": "WQYuYZGd8AgD"
   },
   "outputs": [],
   "source": [
    "#Represent Training & Testing samples suitable for #tensorflow backend\n",
    "x_train=xtrain.reshape(xtrain.shape[0],784).astype('float32')\n",
    "x_test=xtest.reshape(xtest.shape[0],784).astype('float32')"
   ]
  },
  {
   "cell_type": "code",
   "execution_count": null,
   "metadata": {
    "colab": {
     "base_uri": "https://localhost:8080/",
     "height": 34
    },
    "colab_type": "code",
    "id": "v1QWQjmZ8AgF",
    "outputId": "534ed810-19bf-47d8-8065-b89bb940deda"
   },
   "outputs": [],
   "source": [
    "x_test.shape"
   ]
  },
  {
   "cell_type": "code",
   "execution_count": null,
   "metadata": {
    "colab": {},
    "colab_type": "code",
    "id": "5qajCj7-8AgH"
   },
   "outputs": [],
   "source": [
    "x_train/=255\n",
    "x_test/=255"
   ]
  },
  {
   "cell_type": "code",
   "execution_count": null,
   "metadata": {
    "colab": {
     "base_uri": "https://localhost:8080/",
     "height": 34
    },
    "colab_type": "code",
    "id": "mZnZ2Dq78AgL",
    "outputId": "956e6db7-6a1e-4b15-df36-3c1edd00caaf"
   },
   "outputs": [],
   "source": [
    "from tensorflow import keras\n",
    "\n",
    "y_train = keras.utils.to_categorical(ytrain, 10)\n",
    "y_test = keras.utils.to_categorical(ytest, 10)"
   ]
  },
  {
   "cell_type": "code",
   "execution_count": null,
   "metadata": {
    "colab": {},
    "colab_type": "code",
    "id": "TPpy3hpM8AgO"
   },
   "outputs": [],
   "source": [
    "# Initialize the constructor\n",
    "model = Sequential()"
   ]
  },
  {
   "cell_type": "code",
   "execution_count": null,
   "metadata": {
    "colab": {},
    "colab_type": "code",
    "id": "19kdw8qz8AgV"
   },
   "outputs": [],
   "source": [
    "# Define model architecture\n",
    "\n",
    "model.add(Dense(784,activation='relu'))\n",
    "model.add(Dense(100, activation ='relu'))\n",
    "model.add(Dense(10,activation='softmax'))"
   ]
  },
  {
   "cell_type": "code",
   "execution_count": null,
   "metadata": {
    "colab": {},
    "colab_type": "code",
    "id": "MKKOQijJ8AgY"
   },
   "outputs": [],
   "source": [
    "model.compile(loss='categorical_crossentropy',optimizer='adam',metrics=['accuracy'])"
   ]
  },
  {
   "cell_type": "code",
   "execution_count": null,
   "metadata": {
    "colab": {
     "base_uri": "https://localhost:8080/",
     "height": 487
    },
    "colab_type": "code",
    "id": "7jWMYY138Aga",
    "outputId": "ad385468-4884-4de4-a1f3-c63dbbdfaabd"
   },
   "outputs": [],
   "source": [
    "model.fit(x_train, y_train, epochs=10, batch_size=256, verbose=1) "
   ]
  },
  {
   "cell_type": "code",
   "execution_count": null,
   "metadata": {
    "colab": {
     "base_uri": "https://localhost:8080/",
     "height": 34
    },
    "colab_type": "code",
    "id": "eooLx3Mp8Agd",
    "outputId": "051d5b96-e533-46b5-da73-496fda4bc2e9"
   },
   "outputs": [],
   "source": [
    "loss, acc = model.evaluate(x_test, y_test, verbose=0)\n",
    "print('Accuracy: %.3f'  % acc)\n",
    "print('Loss: %.3f' % loss)"
   ]
  },
  {
   "cell_type": "code",
   "execution_count": null,
   "metadata": {
    "colab": {},
    "colab_type": "code",
    "id": "yMANVqX58Agj"
   },
   "outputs": [],
   "source": [
    "y_predict = model.predict(x_test)"
   ]
  },
  {
   "cell_type": "code",
   "execution_count": null,
   "metadata": {
    "colab": {
     "base_uri": "https://localhost:8080/",
     "height": 67
    },
    "colab_type": "code",
    "id": "yOgumyig8Agm",
    "outputId": "5431ee93-eee8-4d26-e7c9-3dc651ba8dff"
   },
   "outputs": [],
   "source": [
    "y_predict[0]"
   ]
  },
  {
   "cell_type": "code",
   "execution_count": null,
   "metadata": {
    "colab": {},
    "colab_type": "code",
    "id": "lbbqEylx8Agp",
    "outputId": "1d5c529a-a81d-48af-e86f-f24b3866fc43"
   },
   "outputs": [],
   "source": [
    "np.argmax(y_predict[0])"
   ]
  },
  {
   "cell_type": "code",
   "execution_count": null,
   "metadata": {
    "colab": {
     "base_uri": "https://localhost:8080/",
     "height": 185
    },
    "colab_type": "code",
    "id": "Blqo-6lQ8Agr",
    "outputId": "d9f2bd38-7354-471f-9add-ae687e97acfb"
   },
   "outputs": [],
   "source": [
    "y_pred = []\n",
    "for val in y_predict:\n",
    "    y_pred.append(np.argmax(val))\n",
    "#print(y_pred)    \n",
    "#convert 0 1 to 1 and 1 0 as 0\n",
    "cm = metrics.confusion_matrix(ytest,y_pred)\n",
    "print(cm)"
   ]
  },
  {
   "cell_type": "code",
   "execution_count": null,
   "metadata": {
    "colab": {
     "base_uri": "https://localhost:8080/",
     "height": 302
    },
    "colab_type": "code",
    "id": "oLEPbJmv8Agt",
    "outputId": "6aee666e-a41f-4c7f-80f5-8d327a1d5179"
   },
   "outputs": [],
   "source": [
    "cr=metrics.classification_report(ytest,y_pred)\n",
    "print(cr)"
   ]
  }
 ],
 "metadata": {
  "colab": {
   "name": "DeepLearningMnist.ipynb",
   "provenance": []
  },
  "kernelspec": {
   "display_name": "my_gpu_env",
   "language": "python",
   "name": "my_gpu_env"
  },
  "language_info": {
   "codemirror_mode": {
    "name": "ipython",
    "version": 3
   },
   "file_extension": ".py",
   "mimetype": "text/x-python",
   "name": "python",
   "nbconvert_exporter": "python",
   "pygments_lexer": "ipython3",
   "version": "3.7.10"
  }
 },
 "nbformat": 4,
 "nbformat_minor": 1
}
