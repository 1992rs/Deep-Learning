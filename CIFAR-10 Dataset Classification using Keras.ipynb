{
 "cells": [
  {
   "cell_type": "code",
   "execution_count": 2,
   "id": "a3a85082",
   "metadata": {},
   "outputs": [],
   "source": [
    "import tensorflow as tf\n",
    "# import keras"
   ]
  },
  {
   "cell_type": "code",
   "execution_count": 3,
   "id": "d23c3c7f",
   "metadata": {},
   "outputs": [
    {
     "data": {
      "text/plain": [
       "'2.6.0'"
      ]
     },
     "execution_count": 3,
     "metadata": {},
     "output_type": "execute_result"
    }
   ],
   "source": [
    "tf.__version__"
   ]
  },
  {
   "cell_type": "code",
   "execution_count": 4,
   "id": "802199b5",
   "metadata": {},
   "outputs": [],
   "source": [
    "from tensorflow.keras.datasets import cifar10\n",
    "import matplotlib.pyplot as plt\n",
    "import numpy as np\n",
    "from tensorflow.keras import models,layers\n",
    "# from keras.utils import to_categorical\n",
    "from tensorflow.keras import optimizers"
   ]
  },
  {
   "cell_type": "code",
   "execution_count": 5,
   "id": "8f612cb9",
   "metadata": {},
   "outputs": [],
   "source": [
    "# loading the dataset\n",
    "(xtrain, ytrain), (xtest, ytest) = cifar10.load_data()"
   ]
  },
  {
   "cell_type": "code",
   "execution_count": 6,
   "id": "a6426c0d",
   "metadata": {},
   "outputs": [
    {
     "name": "stdout",
     "output_type": "stream",
     "text": [
      "(50000, 32, 32, 3)\n",
      "(10000, 32, 32, 3)\n",
      "(50000, 1)\n",
      "(10000, 1)\n"
     ]
    }
   ],
   "source": [
    "print(xtrain.shape)\n",
    "print(xtest.shape)\n",
    "print(ytrain.shape)\n",
    "print(ytest.shape)"
   ]
  },
  {
   "cell_type": "code",
   "execution_count": 7,
   "id": "0a51f2de",
   "metadata": {},
   "outputs": [],
   "source": [
    "labels=['airplane', 'automobile','bird', 'cat', 'deer', 'dog', 'frog', 'horse', 'ship', 'truck']"
   ]
  },
  {
   "cell_type": "code",
   "execution_count": 72,
   "id": "bb79fa64",
   "metadata": {},
   "outputs": [
    {
     "name": "stdout",
     "output_type": "stream",
     "text": [
      "[0. 0. 0. 0. 1. 0. 0. 0. 0. 0.]\n"
     ]
    }
   ],
   "source": [
    "#explore data\n",
    "print(ytrain[9000])"
   ]
  },
  {
   "cell_type": "code",
   "execution_count": 73,
   "id": "d731f1e9",
   "metadata": {},
   "outputs": [
    {
     "data": {
      "image/png": "[encoded data removed]",
      "text/plain": [
       "<Figure size 432x288 with 1 Axes>"
      ]
     },
     "metadata": {
      "needs_background": "light"
     },
     "output_type": "display_data"
    }
   ],
   "source": [
    "plt.imshow(xtrain[9000])\n",
    "plt.show()"
   ]
  },
  {
   "cell_type": "code",
   "execution_count": 10,
   "id": "40223f56",
   "metadata": {},
   "outputs": [
    {
     "data": {
      "text/plain": [
       "numpy.ndarray"
      ]
     },
     "execution_count": 10,
     "metadata": {},
     "output_type": "execute_result"
    }
   ],
   "source": [
    "type(xtrain)"
   ]
  },
  {
   "cell_type": "code",
   "execution_count": 11,
   "id": "15e5fff9",
   "metadata": {},
   "outputs": [
    {
     "data": {
      "text/plain": [
       "dtype('uint8')"
      ]
     },
     "execution_count": 11,
     "metadata": {},
     "output_type": "execute_result"
    }
   ],
   "source": [
    "xtrain.dtype  # datatype of the numbers contained in this numpy array !!"
   ]
  },
  {
   "cell_type": "code",
   "execution_count": 12,
   "id": "97f9edbf",
   "metadata": {},
   "outputs": [
    {
     "data": {
      "text/plain": [
       "array([[[ 59,  62,  63],\n",
       "        [ 43,  46,  45],\n",
       "        [ 50,  48,  43],\n",
       "        ...,\n",
       "        [158, 132, 108],\n",
       "        [152, 125, 102],\n",
       "        [148, 124, 103]],\n",
       "\n",
       "       [[ 16,  20,  20],\n",
       "        [  0,   0,   0],\n",
       "        [ 18,   8,   0],\n",
       "        ...,\n",
       "        [123,  88,  55],\n",
       "        [119,  83,  50],\n",
       "        [122,  87,  57]],\n",
       "\n",
       "       [[ 25,  24,  21],\n",
       "        [ 16,   7,   0],\n",
       "        [ 49,  27,   8],\n",
       "        ...,\n",
       "        [118,  84,  50],\n",
       "        [120,  84,  50],\n",
       "        [109,  73,  42]],\n",
       "\n",
       "       ...,\n",
       "\n",
       "       [[208, 170,  96],\n",
       "        [201, 153,  34],\n",
       "        [198, 161,  26],\n",
       "        ...,\n",
       "        [160, 133,  70],\n",
       "        [ 56,  31,   7],\n",
       "        [ 53,  34,  20]],\n",
       "\n",
       "       [[180, 139,  96],\n",
       "        [173, 123,  42],\n",
       "        [186, 144,  30],\n",
       "        ...,\n",
       "        [184, 148,  94],\n",
       "        [ 97,  62,  34],\n",
       "        [ 83,  53,  34]],\n",
       "\n",
       "       [[177, 144, 116],\n",
       "        [168, 129,  94],\n",
       "        [179, 142,  87],\n",
       "        ...,\n",
       "        [216, 184, 140],\n",
       "        [151, 118,  84],\n",
       "        [123,  92,  72]]], dtype=uint8)"
      ]
     },
     "execution_count": 12,
     "metadata": {},
     "output_type": "execute_result"
    }
   ],
   "source": [
    "xtrain[0]"
   ]
  },
  {
   "cell_type": "code",
   "execution_count": 13,
   "id": "791ee503",
   "metadata": {},
   "outputs": [
    {
     "data": {
      "text/plain": [
       "dtype('int32')"
      ]
     },
     "execution_count": 13,
     "metadata": {},
     "output_type": "execute_result"
    }
   ],
   "source": [
    "a = np.array([1, 2, 3])\n",
    "a.dtype"
   ]
  },
  {
   "cell_type": "code",
   "execution_count": 14,
   "id": "f0c84763",
   "metadata": {},
   "outputs": [
    {
     "data": {
      "text/plain": [
       "array([1, 2, 3], dtype=int8)"
      ]
     },
     "execution_count": 14,
     "metadata": {},
     "output_type": "execute_result"
    }
   ],
   "source": [
    "a.astype('int8')"
   ]
  },
  {
   "cell_type": "code",
   "execution_count": 15,
   "id": "11dabf74",
   "metadata": {},
   "outputs": [],
   "source": [
    "b = a*np.pi"
   ]
  },
  {
   "cell_type": "code",
   "execution_count": 16,
   "id": "6c5a25d0",
   "metadata": {},
   "outputs": [
    {
     "data": {
      "text/plain": [
       "array([3.14159265, 6.28318531, 9.42477796])"
      ]
     },
     "execution_count": 16,
     "metadata": {},
     "output_type": "execute_result"
    }
   ],
   "source": [
    "b"
   ]
  },
  {
   "cell_type": "code",
   "execution_count": 17,
   "id": "76885c0d",
   "metadata": {},
   "outputs": [
    {
     "data": {
      "text/plain": [
       "array([3, 6, 9], dtype=int8)"
      ]
     },
     "execution_count": 17,
     "metadata": {},
     "output_type": "execute_result"
    }
   ],
   "source": [
    "b.astype('int8')"
   ]
  },
  {
   "cell_type": "code",
   "execution_count": 18,
   "id": "d2d57998",
   "metadata": {},
   "outputs": [],
   "source": [
    "# We are loosing precision (while computations) by keeping the data in a \"lower\"-bit (and too as a integer)"
   ]
  },
  {
   "cell_type": "code",
   "execution_count": 19,
   "id": "f2f29de9",
   "metadata": {},
   "outputs": [
    {
     "data": {
      "text/plain": [
       "array([0.08732011, 0.94985174, 0.7817083 , 0.10863927, 0.43094928])"
      ]
     },
     "execution_count": 19,
     "metadata": {},
     "output_type": "execute_result"
    }
   ],
   "source": [
    "np.random.rand(5)   # one plane (line or series) of random numbers"
   ]
  },
  {
   "cell_type": "code",
   "execution_count": 20,
   "id": "203599ed",
   "metadata": {},
   "outputs": [
    {
     "data": {
      "text/plain": [
       "array([[0.41347409, 0.89494268, 0.65174877, 0.91914065],\n",
       "       [0.40518654, 0.76814984, 0.60771895, 0.11825304],\n",
       "       [0.44200805, 0.13943593, 0.39842871, 0.95806514]])"
      ]
     },
     "execution_count": 20,
     "metadata": {},
     "output_type": "execute_result"
    }
   ],
   "source": [
    "np.random.rand(3,4)  # one plane 2D of random numbers  (3 rows & 4 col of random nos)"
   ]
  },
  {
   "cell_type": "code",
   "execution_count": 21,
   "id": "e948c7c5",
   "metadata": {},
   "outputs": [
    {
     "data": {
      "text/plain": [
       "array([[[0.48015307, 0.43890467, 0.68498741, 0.57449433, 0.44542676],\n",
       "        [0.84825724, 0.77340687, 0.03354904, 0.14419002, 0.74580365],\n",
       "        [0.38404   , 0.4930027 , 0.09749464, 0.56381133, 0.47849648],\n",
       "        [0.27902342, 0.87270076, 0.51862142, 0.8312677 , 0.87254448]],\n",
       "\n",
       "       [[0.33354925, 0.96939255, 0.8312464 , 0.63092456, 0.37559423],\n",
       "        [0.42591781, 0.76915834, 0.84710465, 0.52818396, 0.63180923],\n",
       "        [0.5903982 , 0.58262086, 0.2129083 , 0.33941071, 0.07792862],\n",
       "        [0.99588216, 0.95835439, 0.58619664, 0.06872297, 0.32337453]],\n",
       "\n",
       "       [[0.20899556, 0.53679261, 0.65463326, 0.83866103, 0.75322346],\n",
       "        [0.89028636, 0.04151537, 0.31069262, 0.82706114, 0.38916671],\n",
       "        [0.77604801, 0.76090871, 0.30598026, 0.43652798, 0.98254311],\n",
       "        [0.72332103, 0.40771297, 0.53809929, 0.54870793, 0.856277  ]]])"
      ]
     },
     "execution_count": 21,
     "metadata": {},
     "output_type": "execute_result"
    }
   ],
   "source": [
    "np.random.rand(3,4,5)   # we get 3 planes, each plane has 4 rows & 5 columns !!!"
   ]
  },
  {
   "cell_type": "code",
   "execution_count": 22,
   "id": "7d66ecca",
   "metadata": {},
   "outputs": [],
   "source": [
    "# convert the pixel values in float\n",
    "xtrain = xtrain.astype('float32')\n",
    "xtest = xtest.astype('float32')"
   ]
  },
  {
   "cell_type": "code",
   "execution_count": 23,
   "id": "066588aa",
   "metadata": {},
   "outputs": [
    {
     "data": {
      "text/plain": [
       "-2.7755575615628914e-17"
      ]
     },
     "execution_count": 23,
     "metadata": {},
     "output_type": "execute_result"
    }
   ],
   "source": [
    "0.3 - 0.2 - 0.1  # this is purely an artifact of loss of precision during floating-point calculation"
   ]
  },
  {
   "cell_type": "code",
   "execution_count": 24,
   "id": "cac26c31",
   "metadata": {},
   "outputs": [
    {
     "data": {
      "text/plain": [
       "2.220446049250313e-16"
      ]
     },
     "execution_count": 24,
     "metadata": {},
     "output_type": "execute_result"
    }
   ],
   "source": [
    "np.finfo(float).eps   # Any number smaller than eps is practically ZERO"
   ]
  },
  {
   "cell_type": "code",
   "execution_count": 25,
   "id": "3dffb1ed",
   "metadata": {},
   "outputs": [],
   "source": [
    "# scale the images\n",
    "xtrain /= 255  # this is eqvalent to xtrain = xtrain/255 \n",
    "xtest /= 255"
   ]
  },
  {
   "cell_type": "code",
   "execution_count": 26,
   "id": "40ad3b75",
   "metadata": {},
   "outputs": [],
   "source": [
    "from tensorflow.keras.utils import to_categorical"
   ]
  },
  {
   "cell_type": "code",
   "execution_count": 27,
   "id": "f567c258",
   "metadata": {},
   "outputs": [
    {
     "data": {
      "text/plain": [
       "array([6], dtype=uint8)"
      ]
     },
     "execution_count": 27,
     "metadata": {},
     "output_type": "execute_result"
    }
   ],
   "source": [
    "ytrain[0]   # label for the 1st image"
   ]
  },
  {
   "cell_type": "code",
   "execution_count": 28,
   "id": "7cadbb3b",
   "metadata": {},
   "outputs": [],
   "source": [
    "#Convert the class vectors into binary class matrices\n",
    "# basically One Hot Encoding of the labels (ytrain & ytest)\n",
    "ytrain = to_categorical(ytrain)\n",
    "ytest = to_categorical(ytest)"
   ]
  },
  {
   "cell_type": "code",
   "execution_count": 29,
   "id": "33875fe8",
   "metadata": {},
   "outputs": [
    {
     "data": {
      "text/plain": [
       "array([0., 0., 0., 0., 0., 0., 1., 0., 0., 0.], dtype=float32)"
      ]
     },
     "execution_count": 29,
     "metadata": {},
     "output_type": "execute_result"
    }
   ],
   "source": [
    "ytrain[0]   # label for the 1st image  (for 1 images, its 1x10)"
   ]
  },
  {
   "cell_type": "code",
   "execution_count": 30,
   "id": "0f591e31",
   "metadata": {},
   "outputs": [
    {
     "data": {
      "text/plain": [
       "(50000, 10)"
      ]
     },
     "execution_count": 30,
     "metadata": {},
     "output_type": "execute_result"
    }
   ],
   "source": [
    "ytrain.shape"
   ]
  },
  {
   "cell_type": "code",
   "execution_count": 31,
   "id": "fed44a8b",
   "metadata": {},
   "outputs": [
    {
     "data": {
      "text/plain": [
       "(10000, 10)"
      ]
     },
     "execution_count": 31,
     "metadata": {},
     "output_type": "execute_result"
    }
   ],
   "source": [
    "ytest.shape"
   ]
  },
  {
   "cell_type": "code",
   "execution_count": 32,
   "id": "644262c4",
   "metadata": {},
   "outputs": [
    {
     "data": {
      "text/plain": [
       "array([[[0.23137255, 0.24313726, 0.24705882],\n",
       "        [0.16862746, 0.18039216, 0.1764706 ],\n",
       "        [0.19607843, 0.1882353 , 0.16862746],\n",
       "        ...,\n",
       "        [0.61960787, 0.5176471 , 0.42352942],\n",
       "        [0.59607846, 0.49019608, 0.4       ],\n",
       "        [0.5803922 , 0.4862745 , 0.40392157]],\n",
       "\n",
       "       [[0.0627451 , 0.07843138, 0.07843138],\n",
       "        [0.        , 0.        , 0.        ],\n",
       "        [0.07058824, 0.03137255, 0.        ],\n",
       "        ...,\n",
       "        [0.48235294, 0.34509805, 0.21568628],\n",
       "        [0.46666667, 0.3254902 , 0.19607843],\n",
       "        [0.47843137, 0.34117648, 0.22352941]],\n",
       "\n",
       "       [[0.09803922, 0.09411765, 0.08235294],\n",
       "        [0.0627451 , 0.02745098, 0.        ],\n",
       "        [0.19215687, 0.10588235, 0.03137255],\n",
       "        ...,\n",
       "        [0.4627451 , 0.32941177, 0.19607843],\n",
       "        [0.47058824, 0.32941177, 0.19607843],\n",
       "        [0.42745098, 0.28627452, 0.16470589]],\n",
       "\n",
       "       ...,\n",
       "\n",
       "       [[0.8156863 , 0.6666667 , 0.3764706 ],\n",
       "        [0.7882353 , 0.6       , 0.13333334],\n",
       "        [0.7764706 , 0.6313726 , 0.10196079],\n",
       "        ...,\n",
       "        [0.627451  , 0.52156866, 0.27450982],\n",
       "        [0.21960784, 0.12156863, 0.02745098],\n",
       "        [0.20784314, 0.13333334, 0.07843138]],\n",
       "\n",
       "       [[0.7058824 , 0.54509807, 0.3764706 ],\n",
       "        [0.6784314 , 0.48235294, 0.16470589],\n",
       "        [0.7294118 , 0.5647059 , 0.11764706],\n",
       "        ...,\n",
       "        [0.72156864, 0.5803922 , 0.36862746],\n",
       "        [0.38039216, 0.24313726, 0.13333334],\n",
       "        [0.3254902 , 0.20784314, 0.13333334]],\n",
       "\n",
       "       [[0.69411767, 0.5647059 , 0.45490196],\n",
       "        [0.65882355, 0.5058824 , 0.36862746],\n",
       "        [0.7019608 , 0.5568628 , 0.34117648],\n",
       "        ...,\n",
       "        [0.84705883, 0.72156864, 0.54901963],\n",
       "        [0.5921569 , 0.4627451 , 0.32941177],\n",
       "        [0.48235294, 0.36078432, 0.28235295]]], dtype=float32)"
      ]
     },
     "execution_count": 32,
     "metadata": {},
     "output_type": "execute_result"
    }
   ],
   "source": [
    "xtrain[0]  # effect of scaling .. all the pixel values are in the range of 0-1 !!!"
   ]
  },
  {
   "cell_type": "code",
   "execution_count": 33,
   "id": "07a34d12",
   "metadata": {},
   "outputs": [],
   "source": [
    "# 0.2989 * R  +  0.5870 * G  +  0.1140 * B \n",
    "\n",
    "Red_plane = xtrain[0,:,:,0]  # 1st image, then all rows, all cols, 1st plane\n",
    "Green_plane = xtrain[0,:,:,1]\n",
    "Blue_plane = xtrain[0,:,:,2]"
   ]
  },
  {
   "cell_type": "code",
   "execution_count": 34,
   "id": "8b9026a5",
   "metadata": {},
   "outputs": [
    {
     "data": {
      "text/plain": [
       "(32, 32)"
      ]
     },
     "execution_count": 34,
     "metadata": {},
     "output_type": "execute_result"
    }
   ],
   "source": [
    "Red_plane.shape"
   ]
  },
  {
   "cell_type": "code",
   "execution_count": 35,
   "id": "ff67ab41",
   "metadata": {},
   "outputs": [],
   "source": [
    "grayscale_img = 0.2989 *Red_plane  +  0.5870 *Green_plane  +  0.1140 *Blue_plane"
   ]
  },
  {
   "cell_type": "code",
   "execution_count": 36,
   "id": "5e7d0caf",
   "metadata": {},
   "outputs": [
    {
     "data": {
      "image/png": "[encoded data removed]",
      "text/plain": [
       "<Figure size 432x288 with 1 Axes>"
      ]
     },
     "metadata": {
      "needs_background": "light"
     },
     "output_type": "display_data"
    }
   ],
   "source": [
    "# grayscale_img = grayscale_img*255\n",
    "# grayscale_img.astype('uint8')\n",
    "plt.imshow(grayscale_img, cmap='gray')\n",
    "plt.show()"
   ]
  },
  {
   "cell_type": "code",
   "execution_count": 37,
   "id": "8f859420",
   "metadata": {},
   "outputs": [
    {
     "data": {
      "image/png": "[encoded data removed]",
      "text/plain": [
       "<Figure size 432x288 with 1 Axes>"
      ]
     },
     "metadata": {
      "needs_background": "light"
     },
     "output_type": "display_data"
    }
   ],
   "source": [
    "plt.imshow(xtrain[0])\n",
    "plt.show()"
   ]
  },
  {
   "cell_type": "code",
   "execution_count": 95,
   "id": "b26b4cd9",
   "metadata": {},
   "outputs": [
    {
     "data": {
      "text/plain": [
       "(-153.55, 3224.55, 3.0, 267.0)"
      ]
     },
     "execution_count": 95,
     "metadata": {},
     "output_type": "execute_result"
    },
    {
     "data": {
      "image/png": "[encoded data removed]",
      "text/plain": [
       "<Figure size 432x288 with 1 Axes>"
      ]
     },
     "metadata": {
      "needs_background": "light"
     },
     "output_type": "display_data"
    }
   ],
   "source": [
    "img1 = xtrain[9000].reshape(1,-1)\n",
    "img1.shape   # THIS EXACTLY WHAT YOU HAVE FED TO THE DL MODEL FOR TRANING/LEARNING!!!!!!\n",
    "img1 = img1*255\n",
    "img1.astype('uint8')\n",
    "px = list(range(3072))\n",
    "plt.plot(px,img1[0])\n",
    "plt.axis('off')"
   ]
  },
  {
   "cell_type": "code",
   "execution_count": 96,
   "id": "a6d47206",
   "metadata": {},
   "outputs": [
    {
     "data": {
      "text/plain": [
       "(-153.55, 3224.55, -12.75, 267.75)"
      ]
     },
     "execution_count": 96,
     "metadata": {},
     "output_type": "execute_result"
    },
    {
     "data": {
      "image/png": "[encoded data removed]",
      "text/plain": [
       "<Figure size 432x288 with 1 Axes>"
      ]
     },
     "metadata": {
      "needs_background": "light"
     },
     "output_type": "display_data"
    }
   ],
   "source": [
    "img1 = xtrain[0].reshape(1,-1)\n",
    "img1.shape   # THIS EXACTLY WHAT YOU HAVE FED TO THE DL MODEL FOR TRANING/LEARNING!!!!!!\n",
    "img1 = img1*255\n",
    "img1.astype('uint8')\n",
    "px = list(range(3072))\n",
    "plt.plot(px,img1[0])\n",
    "plt.axis('off')"
   ]
  },
  {
   "cell_type": "code",
   "execution_count": 38,
   "id": "d14164d0",
   "metadata": {},
   "outputs": [
    {
     "data": {
      "text/plain": [
       "3072"
      ]
     },
     "execution_count": 38,
     "metadata": {},
     "output_type": "execute_result"
    }
   ],
   "source": [
    "32*32*3"
   ]
  },
  {
   "cell_type": "code",
   "execution_count": 39,
   "id": "5b016c98",
   "metadata": {},
   "outputs": [],
   "source": [
    "import os\n",
    "os.environ['KMP_DUPLICATE_LIB_OK']='True'"
   ]
  },
  {
   "cell_type": "code",
   "execution_count": 40,
   "id": "23a8629b",
   "metadata": {},
   "outputs": [],
   "source": [
    "# MNIST dataset 28x28 = 782 pixels for each image\n",
    "# We had reshaped each image into a row vector (i.e. single row with 784 columns)\n",
    "# So each col represents a feature\n",
    "# So essentially, our dataset had 784 features agianst every MNIST image\n",
    "\n",
    "\n",
    "# For CIFAR-10 >>> 32,32,3 \n",
    "# We'll have 3072 pixels values (features) against every image!!!"
   ]
  },
  {
   "cell_type": "code",
   "execution_count": 66,
   "id": "a0eba5d3",
   "metadata": {},
   "outputs": [],
   "source": [
    "model = models.Sequential()  # create an empty model\n",
    "\n",
    "model.add(layers.Flatten(input_shape = (32,32,3))) # reshapes into 1D vector (1,3072)\n",
    "\n",
    "# kernel_regularizer='l2')) # Adding a hidden layer with 512 neurons, fully connected layer\n",
    "\n",
    "model.add(layers.Dense(256, activation='relu', kernel_initializer='glorot_uniform', bias_initializer='zeros'))  # 1st hidden layer\n",
    "model.add(layers.Dense(128, activation='relu', kernel_initializer='glorot_uniform', bias_initializer='zeros'))  # 2nd hidden layer\n",
    "\n",
    "model.add(layers.Dense(10, activation='softmax'))  # output layer"
   ]
  },
  {
   "cell_type": "code",
   "execution_count": 67,
   "id": "3596494a",
   "metadata": {},
   "outputs": [
    {
     "name": "stdout",
     "output_type": "stream",
     "text": [
      "Model: \"sequential_2\"\n",
      "_________________________________________________________________\n",
      "Layer (type)                 Output Shape              Param #   \n",
      "=================================================================\n",
      "flatten_2 (Flatten)          (None, 3072)              0         \n",
      "_________________________________________________________________\n",
      "dense_6 (Dense)              (None, 256)               786688    \n",
      "_________________________________________________________________\n",
      "dense_7 (Dense)              (None, 128)               32896     \n",
      "_________________________________________________________________\n",
      "dense_8 (Dense)              (None, 10)                1290      \n",
      "=================================================================\n",
      "Total params: 820,874\n",
      "Trainable params: 820,874\n",
      "Non-trainable params: 0\n",
      "_________________________________________________________________\n"
     ]
    }
   ],
   "source": [
    "model.summary()  # the i/p has 3072 nodes"
   ]
  },
  {
   "cell_type": "code",
   "execution_count": 68,
   "id": "2e206c02",
   "metadata": {},
   "outputs": [
    {
     "data": {
      "text/plain": [
       "196672"
      ]
     },
     "execution_count": 68,
     "metadata": {},
     "output_type": "execute_result"
    }
   ],
   "source": [
    "3072*64 + 64"
   ]
  },
  {
   "cell_type": "code",
   "execution_count": 69,
   "id": "b4b3cc06",
   "metadata": {},
   "outputs": [
    {
     "data": {
      "text/plain": [
       "2080"
      ]
     },
     "execution_count": 69,
     "metadata": {},
     "output_type": "execute_result"
    }
   ],
   "source": [
    "64*32 + 32"
   ]
  },
  {
   "cell_type": "code",
   "execution_count": 70,
   "id": "967a6633",
   "metadata": {},
   "outputs": [],
   "source": [
    "# Let's compile the model\n",
    "model.compile(loss = 'categorical_crossentropy', optimizer='adam', metrics='accuracy')"
   ]
  },
  {
   "cell_type": "code",
   "execution_count": 71,
   "id": "b4f7bc5c",
   "metadata": {},
   "outputs": [
    {
     "name": "stdout",
     "output_type": "stream",
     "text": [
      "Epoch 1/50\n",
      "40/40 [==============================] - 6s 135ms/step - loss: 2.1029 - accuracy: 0.2412 - val_loss: 1.9337 - val_accuracy: 0.3042\n",
      "Epoch 2/50\n",
      "40/40 [==============================] - 4s 112ms/step - loss: 1.8629 - accuracy: 0.3392 - val_loss: 1.8415 - val_accuracy: 0.3447\n",
      "Epoch 3/50\n",
      "40/40 [==============================] - 4s 102ms/step - loss: 1.7925 - accuracy: 0.3660 - val_loss: 1.7846 - val_accuracy: 0.3733\n",
      "Epoch 4/50\n",
      "40/40 [==============================] - 4s 103ms/step - loss: 1.7450 - accuracy: 0.3837 - val_loss: 1.7415 - val_accuracy: 0.3901\n",
      "Epoch 5/50\n",
      "40/40 [==============================] - 4s 99ms/step - loss: 1.6953 - accuracy: 0.4031 - val_loss: 1.7073 - val_accuracy: 0.3951\n",
      "Epoch 6/50\n",
      "40/40 [==============================] - 4s 97ms/step - loss: 1.6634 - accuracy: 0.4129 - val_loss: 1.7241 - val_accuracy: 0.3992\n",
      "Epoch 7/50\n",
      "40/40 [==============================] - 5s 115ms/step - loss: 1.6409 - accuracy: 0.4193 - val_loss: 1.6696 - val_accuracy: 0.4116\n",
      "Epoch 8/50\n",
      "40/40 [==============================] - 5s 116ms/step - loss: 1.5986 - accuracy: 0.4382 - val_loss: 1.6251 - val_accuracy: 0.4317\n",
      "Epoch 9/50\n",
      "40/40 [==============================] - 6s 143ms/step - loss: 1.5763 - accuracy: 0.4455 - val_loss: 1.6182 - val_accuracy: 0.4315\n",
      "Epoch 10/50\n",
      "40/40 [==============================] - 6s 142ms/step - loss: 1.5553 - accuracy: 0.4543 - val_loss: 1.6177 - val_accuracy: 0.4312\n",
      "Epoch 11/50\n",
      "40/40 [==============================] - 3s 74ms/step - loss: 1.5361 - accuracy: 0.4602 - val_loss: 1.5860 - val_accuracy: 0.4457\n",
      "Epoch 12/50\n",
      "40/40 [==============================] - 3s 78ms/step - loss: 1.5139 - accuracy: 0.4669 - val_loss: 1.5715 - val_accuracy: 0.4474\n",
      "Epoch 13/50\n",
      "40/40 [==============================] - 4s 91ms/step - loss: 1.5013 - accuracy: 0.4701 - val_loss: 1.5900 - val_accuracy: 0.4418\n",
      "Epoch 14/50\n",
      "40/40 [==============================] - 3s 85ms/step - loss: 1.4756 - accuracy: 0.4807 - val_loss: 1.5508 - val_accuracy: 0.4515\n",
      "Epoch 15/50\n",
      "40/40 [==============================] - 3s 71ms/step - loss: 1.4711 - accuracy: 0.4819 - val_loss: 1.5999 - val_accuracy: 0.4373\n",
      "Epoch 16/50\n",
      "40/40 [==============================] - 3s 85ms/step - loss: 1.4726 - accuracy: 0.4812 - val_loss: 1.5463 - val_accuracy: 0.4563\n",
      "Epoch 17/50\n",
      "40/40 [==============================] - 3s 80ms/step - loss: 1.4412 - accuracy: 0.4921 - val_loss: 1.5193 - val_accuracy: 0.4642\n",
      "Epoch 18/50\n",
      "40/40 [==============================] - 4s 89ms/step - loss: 1.4183 - accuracy: 0.5022 - val_loss: 1.5102 - val_accuracy: 0.4655\n",
      "Epoch 19/50\n",
      "40/40 [==============================] - 4s 100ms/step - loss: 1.4122 - accuracy: 0.5016 - val_loss: 1.5218 - val_accuracy: 0.4631\n",
      "Epoch 20/50\n",
      "40/40 [==============================] - 4s 109ms/step - loss: 1.4143 - accuracy: 0.5030 - val_loss: 1.5031 - val_accuracy: 0.4692\n",
      "Epoch 21/50\n",
      "40/40 [==============================] - 4s 90ms/step - loss: 1.4091 - accuracy: 0.5059 - val_loss: 1.5251 - val_accuracy: 0.4574\n",
      "Epoch 22/50\n",
      "40/40 [==============================] - 3s 84ms/step - loss: 1.4000 - accuracy: 0.5046 - val_loss: 1.4879 - val_accuracy: 0.4790\n",
      "Epoch 23/50\n",
      "40/40 [==============================] - 3s 78ms/step - loss: 1.3876 - accuracy: 0.5095 - val_loss: 1.4859 - val_accuracy: 0.4764- loss: 1.3874 - accura\n",
      "Epoch 24/50\n",
      "40/40 [==============================] - 3s 74ms/step - loss: 1.3698 - accuracy: 0.5149 - val_loss: 1.5009 - val_accuracy: 0.4730\n",
      "Epoch 25/50\n",
      "40/40 [==============================] - 3s 72ms/step - loss: 1.3670 - accuracy: 0.5163 - val_loss: 1.4824 - val_accuracy: 0.4816\n",
      "Epoch 26/50\n",
      "40/40 [==============================] - 3s 71ms/step - loss: 1.3560 - accuracy: 0.5219 - val_loss: 1.4742 - val_accuracy: 0.48283530 - accura\n",
      "Epoch 27/50\n",
      "40/40 [==============================] - 3s 72ms/step - loss: 1.3600 - accuracy: 0.5202 - val_loss: 1.4649 - val_accuracy: 0.4852\n",
      "Epoch 28/50\n",
      "40/40 [==============================] - 3s 74ms/step - loss: 1.3256 - accuracy: 0.5325 - val_loss: 1.4592 - val_accuracy: 0.4840- loss: 1.3314  - ETA: 0s - loss: 1.3284 - accuracy\n",
      "Epoch 29/50\n",
      "40/40 [==============================] - 3s 71ms/step - loss: 1.3267 - accuracy: 0.5323 - val_loss: 1.4934 - val_accuracy: 0.4733\n",
      "Epoch 30/50\n",
      "40/40 [==============================] - 3s 73ms/step - loss: 1.3197 - accuracy: 0.5379 - val_loss: 1.4597 - val_accuracy: 0.4913\n",
      "Epoch 31/50\n",
      "40/40 [==============================] - 3s 84ms/step - loss: 1.3111 - accuracy: 0.5380 - val_loss: 1.4437 - val_accuracy: 0.4969\n",
      "Epoch 32/50\n",
      "40/40 [==============================] - 3s 86ms/step - loss: 1.2956 - accuracy: 0.5435 - val_loss: 1.4596 - val_accuracy: 0.4854\n",
      "Epoch 33/50\n",
      "40/40 [==============================] - 3s 84ms/step - loss: 1.2992 - accuracy: 0.5418 - val_loss: 1.4634 - val_accuracy: 0.4853\n",
      "Epoch 34/50\n",
      "40/40 [==============================] - 3s 84ms/step - loss: 1.2802 - accuracy: 0.5479 - val_loss: 1.4378 - val_accuracy: 0.5018\n",
      "Epoch 35/50\n",
      "40/40 [==============================] - 3s 86ms/step - loss: 1.2741 - accuracy: 0.5502 - val_loss: 1.4508 - val_accuracy: 0.4935\n",
      "Epoch 36/50\n",
      "40/40 [==============================] - 3s 84ms/step - loss: 1.2718 - accuracy: 0.5507 - val_loss: 1.4450 - val_accuracy: 0.4930\n",
      "Epoch 37/50\n",
      "40/40 [==============================] - 3s 84ms/step - loss: 1.2559 - accuracy: 0.5567 - val_loss: 1.4606 - val_accuracy: 0.4887\n",
      "Epoch 38/50\n",
      "40/40 [==============================] - 3s 84ms/step - loss: 1.2550 - accuracy: 0.5582 - val_loss: 1.4363 - val_accuracy: 0.4999\n",
      "Epoch 39/50\n",
      "40/40 [==============================] - 4s 92ms/step - loss: 1.2448 - accuracy: 0.5631 - val_loss: 1.4382 - val_accuracy: 0.4955\n",
      "Epoch 40/50\n",
      "40/40 [==============================] - 3s 86ms/step - loss: 1.2488 - accuracy: 0.5559 - val_loss: 1.4256 - val_accuracy: 0.5045\n",
      "Epoch 41/50\n",
      "40/40 [==============================] - 4s 90ms/step - loss: 1.2280 - accuracy: 0.5664 - val_loss: 1.4324 - val_accuracy: 0.5026\n",
      "Epoch 42/50\n",
      "40/40 [==============================] - 3s 87ms/step - loss: 1.2289 - accuracy: 0.5679 - val_loss: 1.4130 - val_accuracy: 0.5104\n",
      "Epoch 43/50\n",
      "40/40 [==============================] - 4s 106ms/step - loss: 1.2289 - accuracy: 0.5666 - val_loss: 1.4283 - val_accuracy: 0.5005\n",
      "Epoch 44/50\n",
      "40/40 [==============================] - 4s 105ms/step - loss: 1.2079 - accuracy: 0.5741 - val_loss: 1.4159 - val_accuracy: 0.5078\n",
      "Epoch 45/50\n",
      "40/40 [==============================] - 4s 107ms/step - loss: 1.2006 - accuracy: 0.5780 - val_loss: 1.4148 - val_accuracy: 0.5113\n",
      "Epoch 46/50\n",
      "40/40 [==============================] - 4s 106ms/step - loss: 1.1973 - accuracy: 0.5774 - val_loss: 1.4295 - val_accuracy: 0.5069\n",
      "Epoch 47/50\n",
      "40/40 [==============================] - 4s 105ms/step - loss: 1.1916 - accuracy: 0.5789 - val_loss: 1.4452 - val_accuracy: 0.4987\n",
      "Epoch 48/50\n",
      "40/40 [==============================] - 3s 87ms/step - loss: 1.1745 - accuracy: 0.5860 - val_loss: 1.4073 - val_accuracy: 0.5158\n",
      "Epoch 49/50\n",
      "40/40 [==============================] - 4s 88ms/step - loss: 1.1816 - accuracy: 0.5846 - val_loss: 1.4345 - val_accuracy: 0.5067\n",
      "Epoch 50/50\n",
      "40/40 [==============================] - 4s 88ms/step - loss: 1.1746 - accuracy: 0.5864 - val_loss: 1.4379 - val_accuracy: 0.5082\n"
     ]
    }
   ],
   "source": [
    "history = model.fit(xtrain, ytrain, validation_split=0.2, verbose=True, epochs=50, batch_size=1000)"
   ]
  },
  {
   "cell_type": "code",
   "execution_count": null,
   "id": "e478f93d",
   "metadata": {},
   "outputs": [],
   "source": [
    "Epoch 50/50\n",
    "loss: 1.1882 - accuracy: 0.5825 - val_loss: 1.4757 - val_accuracy: 0.4956"
   ]
  },
  {
   "cell_type": "code",
   "execution_count": null,
   "id": "0be4e0f0",
   "metadata": {},
   "outputs": [],
   "source": []
  },
  {
   "cell_type": "code",
   "execution_count": null,
   "id": "6f510206",
   "metadata": {},
   "outputs": [],
   "source": []
  },
  {
   "cell_type": "markdown",
   "id": "2cddf701",
   "metadata": {},
   "source": [
    "Training batch size (no of training data points)= 0.8*50000 = 40,000\n",
    "\n",
    "Batch_size (being used by the Mini-Batch Gradient Descent) = 1000\n",
    "\n",
    "The weights are updated, after the error caculation is made for 1000 images (data-points)\n",
    "\n",
    "jth Weight in the (k+1)th iteration\n",
    "\n",
    "Wj_k+1 = Wj_k - (alpha*Grad_of_Loss_Fn)  >>>> This is your GD Update Rule !!\n",
    "\n",
    "Grad_of_Loss_Fn = Sum(errors aginst 1000 images)\n",
    "\n",
    "No. of iterations per epoch = Total no. of data points in the training or val set / batch_size\n",
    "\n",
    "= 40,000/1000 = 40 iterations for training set (**50ms per epoch**)\n",
    "\n",
    "= 10000/1000 = 10 iterations for validation set set"
   ]
  },
  {
   "cell_type": "code",
   "execution_count": 74,
   "id": "ca4c6b3b",
   "metadata": {},
   "outputs": [
    {
     "data": {
      "text/plain": [
       "dict_keys(['loss', 'accuracy', 'val_loss', 'val_accuracy'])"
      ]
     },
     "execution_count": 74,
     "metadata": {},
     "output_type": "execute_result"
    }
   ],
   "source": [
    "history.history.keys()"
   ]
  },
  {
   "cell_type": "code",
   "execution_count": 75,
   "id": "8e938f34",
   "metadata": {},
   "outputs": [
    {
     "data": {
      "image/png": "[encoded data removed]",
      "text/plain": [
       "<Figure size 720x432 with 1 Axes>"
      ]
     },
     "metadata": {
      "needs_background": "light"
     },
     "output_type": "display_data"
    }
   ],
   "source": [
    "plt.figure(figsize=(10,6))\n",
    "plt.plot(history.epoch, history.history['loss'])\n",
    "plt.plot(history.epoch, history.history['val_loss'])\n",
    "plt.legend(['training_loss', 'val_loss'], fontsize=15)\n",
    "\n",
    "plt.xlabel('Epochs', fontsize=15)\n",
    "plt.ylabel('Loss Function Val', fontsize=15)\n",
    "plt.grid('on')\n",
    "plt.show()"
   ]
  },
  {
   "cell_type": "code",
   "execution_count": null,
   "id": "03e6d8bd",
   "metadata": {},
   "outputs": [],
   "source": []
  },
  {
   "cell_type": "code",
   "execution_count": null,
   "id": "de1704ae",
   "metadata": {},
   "outputs": [],
   "source": []
  },
  {
   "cell_type": "code",
   "execution_count": 76,
   "id": "56f4719a",
   "metadata": {
    "scrolled": true
   },
   "outputs": [
    {
     "data": {
      "image/png": "[encoded data removed]",
      "text/plain": [
       "<Figure size 720x432 with 1 Axes>"
      ]
     },
     "metadata": {
      "needs_background": "light"
     },
     "output_type": "display_data"
    }
   ],
   "source": [
    "plt.figure(figsize=(10,6))\n",
    "plt.plot(history.epoch, history.history['accuracy'])\n",
    "plt.plot(history.epoch, history.history['val_accuracy'])\n",
    "plt.legend(['accuracy', 'val_accuracy'])\n",
    "plt.grid('on')\n",
    "plt.xlabel('Epochs', fontsize=15)\n",
    "plt.ylabel('Accuracy', fontsize=15)\n",
    "plt.show()"
   ]
  },
  {
   "cell_type": "code",
   "execution_count": 97,
   "id": "3d3afb1e",
   "metadata": {},
   "outputs": [],
   "source": [
    "model = models.Sequential()\n",
    "model.add(layers.Conv2D(32, (3, 3), padding='same', input_shape=xtrain.shape[1:], activation='relu', \\\n",
    "                        kernel_regularizer=None))\n",
    "model.add(layers.Conv2D(32, (3, 3), activation='relu')) # extracting further features from the previous rectified FM !\n",
    "model.add(layers.MaxPooling2D(pool_size=(2, 2)))\n",
    "\n",
    "model.add(layers.Conv2D(32, (3, 3), padding='same', activation='relu', kernel_regularizer=None))\n",
    "model.add(layers.Conv2D(32, (3, 3), activation='relu', kernel_regularizer=None))\n",
    "model.add(layers.MaxPooling2D(pool_size=(2, 2)))\n",
    "\n",
    "model.add(layers.Flatten())  # it converts a 2D image (eg. 12,12) into a 1D vector (1,144)\n",
    "\n",
    "model.add(layers.Dense(256, activation='relu', kernel_initializer='glorot_uniform', bias_initializer='zeros'))  # 1st hidden layer\n",
    "model.add(layers.Dense(128, activation='relu', kernel_initializer='glorot_uniform', bias_initializer='zeros'))  # 2nd hidden layer\n",
    "\n",
    "model.add(layers.Dense(10, activation='softmax'))  # output layer"
   ]
  },
  {
   "cell_type": "code",
   "execution_count": 98,
   "id": "26f20e7a",
   "metadata": {
    "scrolled": true
   },
   "outputs": [
    {
     "name": "stdout",
     "output_type": "stream",
     "text": [
      "Model: \"sequential_3\"\n",
      "_________________________________________________________________\n",
      "Layer (type)                 Output Shape              Param #   \n",
      "=================================================================\n",
      "conv2d (Conv2D)              (None, 32, 32, 32)        896       \n",
      "_________________________________________________________________\n",
      "conv2d_1 (Conv2D)            (None, 30, 30, 32)        9248      \n",
      "_________________________________________________________________\n",
      "max_pooling2d (MaxPooling2D) (None, 15, 15, 32)        0         \n",
      "_________________________________________________________________\n",
      "conv2d_2 (Conv2D)            (None, 15, 15, 32)        9248      \n",
      "_________________________________________________________________\n",
      "conv2d_3 (Conv2D)            (None, 13, 13, 32)        9248      \n",
      "_________________________________________________________________\n",
      "max_pooling2d_1 (MaxPooling2 (None, 6, 6, 32)          0         \n",
      "_________________________________________________________________\n",
      "flatten_3 (Flatten)          (None, 1152)              0         \n",
      "_________________________________________________________________\n",
      "dense_9 (Dense)              (None, 256)               295168    \n",
      "_________________________________________________________________\n",
      "dense_10 (Dense)             (None, 128)               32896     \n",
      "_________________________________________________________________\n",
      "dense_11 (Dense)             (None, 10)                1290      \n",
      "=================================================================\n",
      "Total params: 357,994\n",
      "Trainable params: 357,994\n",
      "Non-trainable params: 0\n",
      "_________________________________________________________________\n"
     ]
    }
   ],
   "source": [
    "model.summary()"
   ]
  },
  {
   "cell_type": "code",
   "execution_count": 99,
   "id": "d841b2d1",
   "metadata": {},
   "outputs": [],
   "source": [
    "# Let's compile the model\n",
    "model.compile(loss = 'categorical_crossentropy', optimizer='adam', metrics='accuracy')"
   ]
  },
  {
   "cell_type": "code",
   "execution_count": null,
   "id": "a81025eb",
   "metadata": {},
   "outputs": [
    {
     "name": "stdout",
     "output_type": "stream",
     "text": [
      "Epoch 1/50\n",
      "40/40 [==============================] - 65s 1s/step - loss: 2.0255 - accuracy: 0.2635 - val_loss: 1.8161 - val_accuracy: 0.3457\n",
      "Epoch 2/50\n",
      "40/40 [==============================] - 55s 1s/step - loss: 1.7055 - accuracy: 0.3879 - val_loss: 1.6035 - val_accuracy: 0.4222\n",
      "Epoch 3/50\n",
      "40/40 [==============================] - 54s 1s/step - loss: 1.5290 - accuracy: 0.4453 - val_loss: 1.4499 - val_accuracy: 0.4694\n",
      "Epoch 4/50\n",
      "40/40 [==============================] - 60s 2s/step - loss: 1.4462 - accuracy: 0.4796 - val_loss: 1.3672 - val_accuracy: 0.5065\n",
      "Epoch 5/50\n",
      "40/40 [==============================] - 66s 2s/step - loss: 1.3300 - accuracy: 0.5221 - val_loss: 1.2974 - val_accuracy: 0.5376\n",
      "Epoch 6/50\n",
      "40/40 [==============================] - 65s 2s/step - loss: 1.2503 - accuracy: 0.5525 - val_loss: 1.2611 - val_accuracy: 0.5543\n",
      "Epoch 7/50\n",
      "40/40 [==============================] - 64s 2s/step - loss: 1.1902 - accuracy: 0.5761 - val_loss: 1.1937 - val_accuracy: 0.5737\n",
      "Epoch 8/50\n",
      "40/40 [==============================] - 63s 2s/step - loss: 1.1454 - accuracy: 0.5922 - val_loss: 1.2223 - val_accuracy: 0.5676\n",
      "Epoch 9/50\n",
      "40/40 [==============================] - 60s 2s/step - loss: 1.1037 - accuracy: 0.6079 - val_loss: 1.1374 - val_accuracy: 0.6009\n",
      "Epoch 10/50\n",
      "40/40 [==============================] - 60s 2s/step - loss: 1.0426 - accuracy: 0.6318 - val_loss: 1.1151 - val_accuracy: 0.6109\n",
      "Epoch 11/50\n",
      "40/40 [==============================] - 63s 2s/step - loss: 1.0387 - accuracy: 0.6339 - val_loss: 1.1014 - val_accuracy: 0.6144\n",
      "Epoch 12/50\n",
      "40/40 [==============================] - 63s 2s/step - loss: 0.9763 - accuracy: 0.6570 - val_loss: 1.0291 - val_accuracy: 0.6420\n",
      "Epoch 13/50\n",
      "40/40 [==============================] - 64s 2s/step - loss: 0.9524 - accuracy: 0.6648 - val_loss: 1.0401 - val_accuracy: 0.6355\n",
      "Epoch 14/50\n",
      "40/40 [==============================] - 66s 2s/step - loss: 0.9118 - accuracy: 0.6776 - val_loss: 0.9875 - val_accuracy: 0.6559\n",
      "Epoch 15/50\n",
      "40/40 [==============================] - 60s 1s/step - loss: 0.8854 - accuracy: 0.6899 - val_loss: 0.9984 - val_accuracy: 0.6521\n",
      "Epoch 16/50\n",
      "40/40 [==============================] - 59s 1s/step - loss: 0.8574 - accuracy: 0.6987 - val_loss: 0.9810 - val_accuracy: 0.6613\n",
      "Epoch 17/50\n",
      "40/40 [==============================] - 60s 2s/step - loss: 0.8212 - accuracy: 0.7118 - val_loss: 0.9465 - val_accuracy: 0.6721\n",
      "Epoch 18/50\n",
      "40/40 [==============================] - 66s 2s/step - loss: 0.8018 - accuracy: 0.7210 - val_loss: 0.9490 - val_accuracy: 0.6694\n",
      "Epoch 19/50\n",
      "40/40 [==============================] - 66s 2s/step - loss: 0.7672 - accuracy: 0.7308 - val_loss: 0.9518 - val_accuracy: 0.6688\n",
      "Epoch 20/50\n",
      "40/40 [==============================] - 62s 2s/step - loss: 0.7489 - accuracy: 0.7387 - val_loss: 0.9639 - val_accuracy: 0.6694\n",
      "Epoch 21/50\n",
      "40/40 [==============================] - 65s 2s/step - loss: 0.7200 - accuracy: 0.7494 - val_loss: 0.9107 - val_accuracy: 0.6917\n",
      "Epoch 22/50\n",
      "40/40 [==============================] - 58s 1s/step - loss: 0.6902 - accuracy: 0.7594 - val_loss: 0.9062 - val_accuracy: 0.6913\n",
      "Epoch 23/50\n",
      "40/40 [==============================] - 56s 1s/step - loss: 0.6778 - accuracy: 0.7647 - val_loss: 0.9501 - val_accuracy: 0.6790\n",
      "Epoch 24/50\n",
      "40/40 [==============================] - 63s 2s/step - loss: 0.6487 - accuracy: 0.7722 - val_loss: 0.8926 - val_accuracy: 0.7004\n",
      "Epoch 25/50\n",
      "40/40 [==============================] - 69s 2s/step - loss: 0.6267 - accuracy: 0.7832 - val_loss: 0.9294 - val_accuracy: 0.6897\n",
      "Epoch 26/50\n",
      "40/40 [==============================] - 70s 2s/step - loss: 0.6032 - accuracy: 0.7915 - val_loss: 0.9401 - val_accuracy: 0.6896\n",
      "Epoch 27/50\n",
      "40/40 [==============================] - ETA: 0s - loss: 0.5798 - accuracy: 0.8008"
     ]
    }
   ],
   "source": [
    "history = model.fit(xtrain, ytrain, validation_split=0.2, verbose=True, epochs=50, batch_size=1000)"
   ]
  },
  {
   "cell_type": "code",
   "execution_count": null,
   "id": "bb6c0bfc",
   "metadata": {},
   "outputs": [],
   "source": []
  }
 ],
 "metadata": {
  "kernelspec": {
   "display_name": "Python 3 (ipykernel)",
   "language": "python",
   "name": "python3"
  },
  "language_info": {
   "codemirror_mode": {
    "name": "ipython",
    "version": 3
   },
   "file_extension": ".py",
   "mimetype": "text/x-python",
   "name": "python",
   "nbconvert_exporter": "python",
   "pygments_lexer": "ipython3",
   "version": "3.9.0"
  }
 },
 "nbformat": 4,
 "nbformat_minor": 5
}
