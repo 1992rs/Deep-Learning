{
 "cells": [
  {
   "cell_type": "markdown",
   "metadata": {},
   "source": [
    "## Reference Blogs\n",
    "\n",
    "**Interactive CNN**\n",
    "\n",
    "* **Interactice Convolution Neural Network on MNIST -** https://cs.stanford.edu/people/karpathy/convnetjs/demo/mnist.html\n",
    "\n",
    "* **Interactive CNN with CIFAR-10 dataset -** https://cs.stanford.edu/people/karpathy/convnetjs/demo/cifar10.html\n",
    "\n",
    "* **Toy 2D data set classification using CNN -** https://cs.stanford.edu/people/karpathy/convnetjs/demo/classify2d.html\n",
    "\n",
    "**Blogs to follow for Computer Vision**\n",
    "\n",
    "* **Computer Vision for Dummies -** https://www.visiondummy.com/\n",
    "\n",
    "* **Learn OpenCV -** https://www.learnopencv.com/\n",
    "\n",
    "* **Tombone's CV blog -** https://www.computervisionblog.com/\n",
    "\n",
    "* **Andrez Karpathy Blog -** http://karpathy.github.io/\n",
    "\n",
    "* **AI Shack Blog -** https://aishack.in/\n",
    "\n",
    "* **Computer Vision Talks -** https://computer-vision-talks.com/"
   ]
  },
  {
   "cell_type": "markdown",
   "metadata": {},
   "source": [
    "# <center> Case Study on Image Classification:"
   ]
  },
  {
   "cell_type": "markdown",
   "metadata": {
    "colab_type": "text",
    "id": "ZibhRtQ2DzPP"
   },
   "source": [
    "\n",
    "# Context:\n",
    "- We are given a **dataset** which contains image data. \n",
    "- The data contains **pixel values** of the images in csv format. \n",
    "- Each image represents one of the number from 0, 1, 2, ..., 8, 9. So there are 10 possible outcomes for each row of data. As the data contains the pixel values of the image in each row. \n",
    "- Each image is 28 pixels in height and 28 pixels in width, for a total of 784 pixels in total. \n",
    "- Each pixel has a single pixel-value associated with it, indicating the lightness or darkness of that pixel, with higher numbers meaning lighter shade. \n",
    "- This pixel-value is an integer between 0 and 255, inclusive.\n",
    "- The data set has 785 columns. \n",
    "- The first column, called \"label\", is the digit which is in the image. \n",
    "- *The* rest of the columns contain the pixel-values of the associated image."
   ]
  },
  {
   "cell_type": "code",
   "execution_count": null,
   "metadata": {
    "colab": {
     "base_uri": "https://localhost:8080/",
     "height": 34
    },
    "colab_type": "code",
    "id": "860yaTYrqS4U",
    "outputId": "765a5711-ce06-42ff-f855-bf6106cdd5f3"
   },
   "outputs": [],
   "source": [
    "28 * 28"
   ]
  },
  {
   "cell_type": "markdown",
   "metadata": {
    "colab_type": "text",
    "id": "hQp3fAsEHRt_"
   },
   "source": [
    "# Problem:\n",
    "- Classify the image based on the pixel value.\n",
    "- The result of the model should be the number which is represented by the pixel values.\n",
    "- Use Supervised Learning method for it."
   ]
  },
  {
   "cell_type": "markdown",
   "metadata": {
    "colab_type": "text",
    "id": "H37yWAWZHqT0"
   },
   "source": [
    "# Data:\n",
    "- **label:** A value between 0 and 9. Both inclusive. Total 10 unique values.\n",
    "- **pixel0, pixel1, pixel2, ..., pixel782, pixel783:** Each value in these columns is between 0 and 255. Which represents the pixel intensity. "
   ]
  },
  {
   "cell_type": "code",
   "execution_count": null,
   "metadata": {},
   "outputs": [],
   "source": [
    "# ! pip install opencv-python"
   ]
  },
  {
   "cell_type": "code",
   "execution_count": null,
   "metadata": {
    "colab": {
     "base_uri": "https://localhost:8080/",
     "height": 71
    },
    "colab_type": "code",
    "id": "ovA48OkpDrLc",
    "outputId": "4a838340-6dd3-4631-9edc-d42d996a3f0d"
   },
   "outputs": [],
   "source": [
    "import cv2\n",
    "import numpy as np\n",
    "import pandas as pd\n",
    "\n",
    "import seaborn as sns\n",
    "import matplotlib.pyplot as plt\n",
    "%matplotlib inline\n",
    "\n",
    "from sklearn import svm\n",
    "from sklearn.model_selection import train_test_split"
   ]
  },
  {
   "cell_type": "markdown",
   "metadata": {
    "colab_type": "text",
    "id": "gVbd_vGsDrLh"
   },
   "source": [
    "## 1. Loading the data\n",
    "- We use panda's read_csv to read train.csv into a dataframe.\n",
    "- Then we separate our images and labels for supervised learning.\n",
    "- We also do a train_test_split to break our data into two sets, one for training and one for testing. This let's us measure how well our model was trained by later inputting some known test data."
   ]
  },
  {
   "cell_type": "code",
   "execution_count": null,
   "metadata": {
    "colab": {},
    "colab_type": "code",
    "id": "watsLCCsDrLi"
   },
   "outputs": [],
   "source": [
    "data = pd.read_csv('data/dataset.csv')    # Load the dataset by providing the path to the file."
   ]
  },
  {
   "cell_type": "code",
   "execution_count": null,
   "metadata": {
    "colab": {
     "base_uri": "https://localhost:8080/",
     "height": 253
    },
    "colab_type": "code",
    "id": "0dOe_Ps--jQb",
    "outputId": "15e4780e-a660-45b4-a2e6-66969f32a8f3"
   },
   "outputs": [],
   "source": [
    "data"
   ]
  },
  {
   "cell_type": "code",
   "execution_count": null,
   "metadata": {
    "colab": {
     "base_uri": "https://localhost:8080/",
     "height": 34
    },
    "colab_type": "code",
    "id": "6vjl-ggHQE0B",
    "outputId": "27f51120-17ab-4eda-c808-0afc1f3d6468"
   },
   "outputs": [],
   "source": [
    "data.shape"
   ]
  },
  {
   "cell_type": "code",
   "execution_count": null,
   "metadata": {
    "colab": {},
    "colab_type": "code",
    "id": "TwpHt4vIDrLl"
   },
   "outputs": [],
   "source": [
    "# The labels for images.\n",
    "y = data[\"label\"]"
   ]
  },
  {
   "cell_type": "markdown",
   "metadata": {
    "colab_type": "text",
    "id": "5OnmCx6iemTR"
   },
   "source": [
    "Let's see some of the labels."
   ]
  },
  {
   "cell_type": "code",
   "execution_count": null,
   "metadata": {
    "colab": {
     "base_uri": "https://localhost:8080/",
     "height": 51
    },
    "colab_type": "code",
    "id": "q7ecDtEseqPL",
    "outputId": "5c1ddd16-51c1-471f-b7c2-7ccb732c77f5"
   },
   "outputs": [],
   "source": [
    "print(y[0])               # Label for 1st image.\n",
    "print(y[2000])            # Label for 2001st image."
   ]
  },
  {
   "cell_type": "markdown",
   "metadata": {
    "colab_type": "text",
    "id": "iBOj8RpafAD8"
   },
   "source": [
    "### 2. Data Preparation\n",
    "\n",
    "**Add on:**\n",
    "\n",
    "What should we do to prepare the data according to the model input?\n",
    "\n",
    "Let's see in the next steps."
   ]
  },
  {
   "cell_type": "code",
   "execution_count": null,
   "metadata": {
    "colab": {},
    "colab_type": "code",
    "id": "3qHkPllCDrLn"
   },
   "outputs": [],
   "source": [
    "# Drop 'label' column.\n",
    "X = data.drop(labels = [\"label\"], axis = 1)"
   ]
  },
  {
   "cell_type": "code",
   "execution_count": null,
   "metadata": {},
   "outputs": [],
   "source": [
    "type(X)"
   ]
  },
  {
   "cell_type": "code",
   "execution_count": null,
   "metadata": {},
   "outputs": [],
   "source": [
    "print(y[0])               # Label for 1st image.\n",
    "print(y[2000])            # Label for 2001st image."
   ]
  },
  {
   "cell_type": "code",
   "execution_count": null,
   "metadata": {},
   "outputs": [],
   "source": [
    "i=2000\n",
    "img = X.iloc[i].values\n",
    "img = img.reshape((28,28))\n",
    "plt.imshow(img, cmap='gray')\n",
    "plt.title(y[i]);"
   ]
  },
  {
   "cell_type": "markdown",
   "metadata": {
    "colab_type": "text",
    "id": "qoKrchkGfZDZ"
   },
   "source": [
    "## Think about it:\n",
    "\n",
    "Why did we drop the labels from the data and saved it into new variable \"X\"?"
   ]
  },
  {
   "cell_type": "markdown",
   "metadata": {
    "colab_type": "text",
    "id": "iENhNh4kfjm8"
   },
   "source": [
    "## Think about it:\n",
    "\n",
    "Do we know, how the data distribution looks like across all the numbers?\n",
    "\n",
    "i.e. We need to know the images corresponding to each number."
   ]
  },
  {
   "cell_type": "code",
   "execution_count": null,
   "metadata": {},
   "outputs": [],
   "source": [
    "y.value_counts()"
   ]
  },
  {
   "cell_type": "code",
   "execution_count": null,
   "metadata": {
    "colab": {
     "base_uri": "https://localhost:8080/",
     "height": 466
    },
    "colab_type": "code",
    "id": "Vz3bmnIWDrLq",
    "outputId": "52df683f-959d-4fd1-f731-6df030541cea"
   },
   "outputs": [],
   "source": [
    "g = sns.countplot(x=y);"
   ]
  },
  {
   "cell_type": "markdown",
   "metadata": {
    "colab_type": "text",
    "id": "YghaEzSV0_MN"
   },
   "source": [
    "**Insight -** We can see from the above plot that the data is evenly distributed among all the classes (from 0, 1, 2, ..., 8, 9). So, the dataset is perfectly balanced."
   ]
  },
  {
   "cell_type": "markdown",
   "metadata": {
    "colab_type": "text",
    "id": "B5wTnQZ2DrLt"
   },
   "source": [
    "### 3. Check for Null and Missing Values"
   ]
  },
  {
   "cell_type": "code",
   "execution_count": null,
   "metadata": {
    "colab": {
     "base_uri": "https://localhost:8080/",
     "height": 221
    },
    "colab_type": "code",
    "id": "7MSX5S1DDrLu",
    "outputId": "5053d188-5019-4fe1-ce67-d90d30fc615f"
   },
   "outputs": [],
   "source": [
    "# Check the data\n",
    "X.isnull().sum()"
   ]
  },
  {
   "cell_type": "markdown",
   "metadata": {
    "colab_type": "text",
    "id": "xCdXjZaTDrLx"
   },
   "source": [
    "**Insights** We checked for corrupted images (missing values inside) - There are no missing values in the dataset. So we can safely go ahead."
   ]
  },
  {
   "cell_type": "markdown",
   "metadata": {
    "colab_type": "text",
    "id": "Kbp9tbJ5DrLy"
   },
   "source": [
    "### 4. Normalization [Depends upon the Algorithm]\n",
    "* We perform a grayscale normalization to reduce the effect of illumination's differences.\n",
    "\n",
    "* https://machinelearningmastery.com/how-to-manually-scale-image-pixel-data-for-deep-learning/"
   ]
  },
  {
   "cell_type": "code",
   "execution_count": null,
   "metadata": {
    "colab": {},
    "colab_type": "code",
    "id": "dCiHsJ5eDrLy"
   },
   "outputs": [],
   "source": [
    "# Normalize the data\n",
    "X = X.astype('float32') / 255.0"
   ]
  },
  {
   "cell_type": "markdown",
   "metadata": {},
   "source": [
    "### 5. Train and Test Split"
   ]
  },
  {
   "cell_type": "code",
   "execution_count": null,
   "metadata": {
    "colab": {},
    "colab_type": "code",
    "id": "fzXfwxBbLe-I"
   },
   "outputs": [],
   "source": [
    "X = X.values # Convert the features (pixel values) to numpy array to feed into the supervised learning model.\n",
    "y = y.values # Convert the labels to numpy array to feed into the supervised learning model."
   ]
  },
  {
   "cell_type": "code",
   "execution_count": null,
   "metadata": {
    "colab": {},
    "colab_type": "code",
    "id": "croSzfCaDrL1"
   },
   "outputs": [],
   "source": [
    "# Split data into test and train to build the model.\n",
    "X_train, X_test, y_train, y_test = train_test_split(X, y, train_size=0.75, random_state=0)"
   ]
  },
  {
   "cell_type": "code",
   "execution_count": null,
   "metadata": {
    "colab": {
     "base_uri": "https://localhost:8080/",
     "height": 34
    },
    "colab_type": "code",
    "id": "BSpJiuyeKl2B",
    "outputId": "fba769ff-f88e-4533-ab18-3f1933e396c9"
   },
   "outputs": [],
   "source": [
    "type(X_train) # As we can see that the data to be fed into model is of the type numpy array."
   ]
  },
  {
   "cell_type": "markdown",
   "metadata": {
    "colab_type": "text",
    "id": "XSiKBnaoDrL3"
   },
   "source": [
    "#### We can get a better sense for one of these examples by visualising the image and looking at the label."
   ]
  },
  {
   "cell_type": "markdown",
   "metadata": {
    "colab_type": "text",
    "id": "mBjg8ZrpDrL3"
   },
   "source": [
    "### 6. Viewing an Image\n",
    "- Since the image is currently one-dimension, we load it into a numpy array and reshape it so that it is two-dimensional (28x28 pixels)\n",
    "- Then, we plot the image and label with matplotlib\n",
    "\n",
    "* You can change the value of variable i to check out other images and labels."
   ]
  },
  {
   "cell_type": "code",
   "execution_count": null,
   "metadata": {
    "colab": {
     "base_uri": "https://localhost:8080/",
     "height": 298
    },
    "colab_type": "code",
    "id": "ogQfrOQJDrL4",
    "outputId": "f24f2432-da8e-4e36-b576-e90e9d9c0d84"
   },
   "outputs": [],
   "source": [
    "i=10\n",
    "img = X[i]\n",
    "img = img.reshape((28,28))\n",
    "plt.imshow(img, cmap='gray')\n",
    "plt.title(y[i]);"
   ]
  },
  {
   "cell_type": "markdown",
   "metadata": {
    "colab_type": "text",
    "id": "RylRXwz1SF6I"
   },
   "source": [
    "## Add-on:\n",
    "- What is `X[i]`'s shape?\n",
    "- How to reshape the whole array instead of just one row?\n",
    "- What's the shape of the reshaped array?"
   ]
  },
  {
   "cell_type": "markdown",
   "metadata": {
    "colab_type": "text",
    "id": "9z-Rvd7r2Iax"
   },
   "source": [
    "* In the original data, the pixel values were in a 1-Dimensional array.\n",
    "* We converted that 1-D array of 784 pixel values into an 2-D array of shape (28 X 28).\n",
    "* Note that 28 multiplied by 28 is equal to 784.\n",
    "* As each pixel value represents dark or white spot, when we plot the 28x28 pixel's array, we get the above image.\n",
    "* So, it validates the fact that image can be represented by an numpy array.\n",
    "* Each value of the above numpy array represents a pixel, which has value between 0 and 255."
   ]
  },
  {
   "cell_type": "markdown",
   "metadata": {
    "colab_type": "text",
    "id": "C924HqB4DrL6"
   },
   "source": [
    "### 7. Examining the Pixel Values:\n",
    "- Note that these images aren't actually black and white (0,1). They are gray-scale (0-255).\n",
    "- A histogram of this image's pixel values shows the range."
   ]
  },
  {
   "cell_type": "code",
   "execution_count": null,
   "metadata": {
    "colab": {
     "base_uri": "https://localhost:8080/",
     "height": 458
    },
    "colab_type": "code",
    "id": "tR-VjkaNDrL6",
    "outputId": "797df553-3dcc-437f-c351-a6efd2a0d49f"
   },
   "outputs": [],
   "source": [
    "plt.figure(figsize=(10,7), edgecolor='blue')\n",
    "\n",
    "n, bins, patches = plt.hist(X[9], bins=10, range=(0.0, 1.0))\n",
    "plt.xlabel('Pixel value')\n",
    "plt.ylabel('Number of Pixels')\n",
    "plt.title('Histogram of Pixel values')\n",
    "plt.show();"
   ]
  },
  {
   "cell_type": "markdown",
   "metadata": {
    "colab_type": "text",
    "id": "NhxIuw6KqojM"
   },
   "source": [
    "## Think about it:\n",
    "\n",
    "- What does the height = 641 mean?\n",
    "Similarly other height values in the result.\n",
    "- The width is same for all = 0.1"
   ]
  },
  {
   "cell_type": "markdown",
   "metadata": {
    "colab_type": "text",
    "id": "vW9K3euq3Mu-"
   },
   "source": [
    "* From above histogram, we can see that the there are more number of pixels which have value equal to zero. \n",
    "* Zero value represents black pixel.\n",
    "* From the image we saw before, we observed that the black portion of image was more than the white portion.\n",
    "* It confirms that white pixel is represented by value equal to 1."
   ]
  },
  {
   "cell_type": "markdown",
   "metadata": {
    "colab_type": "text",
    "id": "E9bilMJ-r4T6"
   },
   "source": [
    "----------------------------------------------------"
   ]
  },
  {
   "cell_type": "markdown",
   "metadata": {
    "colab_type": "text",
    "id": "rG2-SgSoromK"
   },
   "source": [
    "## Think about it:\n",
    "\n",
    "- What should be our next step while understanding about the images?"
   ]
  },
  {
   "cell_type": "markdown",
   "metadata": {
    "colab_type": "text",
    "id": "UhuCU0WZDrL9"
   },
   "source": [
    "### 8. Training our model\n",
    "- First, we use the sklearn.ensemble module to create a **random forest classifier**.\n",
    "- Next, we pass our training images and labels to the classifier's fit method, which trains our model.\n",
    "- Finally, the test images and labels are passed to the score method to see how well we trained our model. Score will return a float between 0-1 indicating our accuracy on the test data set\n",
    "\n",
    "* Try playing with the parameters of RandomForestClassifier() to see how the results change."
   ]
  },
  {
   "cell_type": "code",
   "execution_count": null,
   "metadata": {},
   "outputs": [],
   "source": [
    "from sklearn.ensemble import RandomForestClassifier"
   ]
  },
  {
   "cell_type": "code",
   "execution_count": null,
   "metadata": {},
   "outputs": [],
   "source": [
    "?RandomForestClassifier"
   ]
  },
  {
   "cell_type": "code",
   "execution_count": null,
   "metadata": {
    "colab": {
     "base_uri": "https://localhost:8080/",
     "height": 153
    },
    "colab_type": "code",
    "id": "sTlKVDJXSPS5",
    "outputId": "fc51f0ee-61ce-4790-fd3a-4f0d9fad426e"
   },
   "outputs": [],
   "source": [
    "# random forest model creation\n",
    "clf = RandomForestClassifier(random_state=190,verbose=False,n_estimators=201,n_jobs=8,max_depth=8)"
   ]
  },
  {
   "cell_type": "code",
   "execution_count": null,
   "metadata": {},
   "outputs": [],
   "source": [
    "clf.fit(X_train, y_train)"
   ]
  },
  {
   "cell_type": "code",
   "execution_count": null,
   "metadata": {
    "scrolled": true
   },
   "outputs": [],
   "source": [
    "train_pred_cl=clf.predict(X_test)\n",
    "train_pred_cl"
   ]
  },
  {
   "cell_type": "code",
   "execution_count": null,
   "metadata": {},
   "outputs": [],
   "source": [
    "clf.score(X_train, y_train)"
   ]
  },
  {
   "cell_type": "code",
   "execution_count": null,
   "metadata": {
    "colab": {
     "base_uri": "https://localhost:8080/",
     "height": 34
    },
    "colab_type": "code",
    "id": "z8wJbZO4DrL9",
    "outputId": "79cd67cc-f586-4eef-f2a3-42b8c8a3633e"
   },
   "outputs": [],
   "source": [
    "clf.score(X_test, y_test)"
   ]
  },
  {
   "cell_type": "code",
   "execution_count": null,
   "metadata": {
    "colab": {},
    "colab_type": "code",
    "id": "-2VlLptZOz-l"
   },
   "outputs": [],
   "source": [
    "y_pred = clf.predict(X_test)\n",
    "y_pred"
   ]
  },
  {
   "cell_type": "markdown",
   "metadata": {
    "colab_type": "text",
    "id": "mNzzpIh0DrL_"
   },
   "source": [
    " How did our model do?\n",
    "- You should have gotten around 0.9376, or **93.76% accuracy**. This is good."
   ]
  },
  {
   "cell_type": "code",
   "execution_count": null,
   "metadata": {
    "colab": {
     "base_uri": "https://localhost:8080/",
     "height": 298
    },
    "colab_type": "code",
    "id": "-KiepNei7Y5X",
    "outputId": "b7bfc539-9993-4cdb-da1e-6d816d210a5a"
   },
   "outputs": [],
   "source": [
    "i=0\n",
    "img = X_test[i]\n",
    "img = img.reshape((28,28))\n",
    "plt.imshow(img, cmap='gray')\n",
    "plt.title(y_pred[i]);"
   ]
  },
  {
   "cell_type": "code",
   "execution_count": null,
   "metadata": {
    "colab": {},
    "colab_type": "code",
    "id": "F31G4fDUDrMF"
   },
   "outputs": [],
   "source": [
    "from sklearn.metrics import classification_report, confusion_matrix"
   ]
  },
  {
   "cell_type": "code",
   "execution_count": null,
   "metadata": {
    "colab": {
     "base_uri": "https://localhost:8080/",
     "height": 204
    },
    "colab_type": "code",
    "id": "GFssUSxGOtEp",
    "outputId": "8c848c2d-c53a-4a25-d882-8e2f15b75382"
   },
   "outputs": [],
   "source": [
    "print(\"=== Confusion Matrix ===\")\n",
    "cm = confusion_matrix(y_test, y_pred)\n",
    "print(cm)"
   ]
  },
  {
   "cell_type": "code",
   "execution_count": null,
   "metadata": {
    "colab": {
     "base_uri": "https://localhost:8080/",
     "height": 445
    },
    "colab_type": "code",
    "id": "4akqR7KmRsC1",
    "outputId": "0927b124-cd27-479c-ec3c-09b9ce36f9a6"
   },
   "outputs": [],
   "source": [
    "df_cm = pd.DataFrame(cm, index = [i for i in \"0123456789\"],\n",
    "                     columns = [i for i in \"0123456789\"])\n",
    "plt.figure(figsize = (10,7))\n",
    "sns.heatmap(df_cm, annot=True, fmt='d');"
   ]
  },
  {
   "cell_type": "code",
   "execution_count": null,
   "metadata": {
    "colab": {
     "base_uri": "https://localhost:8080/",
     "height": 323
    },
    "colab_type": "code",
    "id": "Am6wEwLARqnv",
    "outputId": "08cc3bbe-0465-409a-f5fa-b036258b8fc4"
   },
   "outputs": [],
   "source": [
    "print(\"=== Classification Report ===\")\n",
    "print(classification_report(y_test, y_pred))"
   ]
  },
  {
   "cell_type": "markdown",
   "metadata": {
    "colab_type": "text",
    "id": "b0qtAzjCTCpa"
   },
   "source": [
    "**Insights** So, we got a pretty good accuracy on classification of the images of digits, as the classification report shows."
   ]
  },
  {
   "cell_type": "markdown",
   "metadata": {
    "colab_type": "text",
    "id": "P8S4oJhiXj6i"
   },
   "source": [
    "## Please Note:\n",
    "NEVER loop through a numpy array or pandas df! Use vectorized operations instead!\n",
    "https://www.pythonlikeyoumeanit.com/Module3_IntroducingNumpy/VectorizedOperations.html"
   ]
  },
  {
   "cell_type": "markdown",
   "metadata": {
    "colab_type": "text",
    "id": "84I_Zi2g6n6_"
   },
   "source": [
    "### So, we got a pretty good accuracy on classification of the images of digits, as the classification report shows.\n",
    "\n",
    "# Session Summary\n",
    "- The images can be represented using numpy array.\n",
    "- If the array is 1-D, then we can visualize the image after reshaping the array to suitable shape. In this case we converted it to 2-D array.\n",
    "- We visualized the image by plotting the numpy array using matplotlib.\n",
    "- After that we saw that the pixel values' distribution in histogram, the black pixel's value is zero, and the white pixel's value is 1. These values are after normalization of pixel values, i.e. after dividing each value by 255.\n",
    "- We used RandomForestClassifier as supervised classification method."
   ]
  }
 ],
 "metadata": {
  "colab": {
   "collapsed_sections": [],
   "name": "Session_Case_Study ComputerVision_Week_1 (1).ipynb",
   "provenance": []
  },
  "kernelspec": {
   "display_name": "Python 3",
   "language": "python",
   "name": "python3"
  },
  "language_info": {
   "codemirror_mode": {
    "name": "ipython",
    "version": 3
   },
   "file_extension": ".py",
   "mimetype": "text/x-python",
   "name": "python",
   "nbconvert_exporter": "python",
   "pygments_lexer": "ipython3",
   "version": "3.8.8"
  }
 },
 "nbformat": 4,
 "nbformat_minor": 1
}
