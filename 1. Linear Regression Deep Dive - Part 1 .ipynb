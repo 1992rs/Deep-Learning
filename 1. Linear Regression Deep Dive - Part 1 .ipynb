{
 "cells": [
  {
   "cell_type": "markdown",
   "metadata": {
    "colab_type": "text",
    "id": "fYOHTuW3W7Is"
   },
   "source": [
    "# <center> Cost Function"
   ]
  },
  {
   "cell_type": "code",
   "execution_count": 1,
   "metadata": {
    "colab": {},
    "colab_type": "code",
    "id": "GlJaXfg0iyr8"
   },
   "outputs": [],
   "source": [
    "#import the libraries\n",
    "import matplotlib.pyplot as plt\n",
    "import pandas as pd\n",
    "from sklearn.metrics import mean_squared_error as mse"
   ]
  },
  {
   "cell_type": "markdown",
   "metadata": {
    "colab_type": "text",
    "id": "2Fh-DhXGW-Q7"
   },
   "source": [
    "## Creating sample Data"
   ]
  },
  {
   "cell_type": "code",
   "execution_count": 2,
   "metadata": {
    "colab": {
     "base_uri": "https://localhost:8080/",
     "height": 198
    },
    "colab_type": "code",
    "executionInfo": {
     "elapsed": 1302,
     "status": "ok",
     "timestamp": 1563261342569,
     "user": {
      "displayName": "Sharoon Saxena",
      "photoUrl": "",
      "userId": "14774175216384036942"
     },
     "user_tz": -330
    },
    "id": "RUr712Sti5A8",
    "outputId": "fd9a3b64-c099-4bd1-c448-4d352c64cc46"
   },
   "outputs": [
    {
     "data": {
      "text/html": [
       "<div>\n",
       "<style scoped>\n",
       "    .dataframe tbody tr th:only-of-type {\n",
       "        vertical-align: middle;\n",
       "    }\n",
       "\n",
       "    .dataframe tbody tr th {\n",
       "        vertical-align: top;\n",
       "    }\n",
       "\n",
       "    .dataframe thead th {\n",
       "        text-align: right;\n",
       "    }\n",
       "</style>\n",
       "<table border=\"1\" class=\"dataframe\">\n",
       "  <thead>\n",
       "    <tr style=\"text-align: right;\">\n",
       "      <th></th>\n",
       "      <th>salary</th>\n",
       "      <th>experience</th>\n",
       "    </tr>\n",
       "  </thead>\n",
       "  <tbody>\n",
       "    <tr>\n",
       "      <th>0</th>\n",
       "      <td>1.7</td>\n",
       "      <td>1.2</td>\n",
       "    </tr>\n",
       "    <tr>\n",
       "      <th>1</th>\n",
       "      <td>2.4</td>\n",
       "      <td>1.5</td>\n",
       "    </tr>\n",
       "    <tr>\n",
       "      <th>2</th>\n",
       "      <td>2.3</td>\n",
       "      <td>1.9</td>\n",
       "    </tr>\n",
       "    <tr>\n",
       "      <th>3</th>\n",
       "      <td>3.1</td>\n",
       "      <td>2.2</td>\n",
       "    </tr>\n",
       "    <tr>\n",
       "      <th>4</th>\n",
       "      <td>3.7</td>\n",
       "      <td>2.4</td>\n",
       "    </tr>\n",
       "  </tbody>\n",
       "</table>\n",
       "</div>"
      ],
      "text/plain": [
       "   salary  experience\n",
       "0     1.7         1.2\n",
       "1     2.4         1.5\n",
       "2     2.3         1.9\n",
       "3     3.1         2.2\n",
       "4     3.7         2.4"
      ]
     },
     "execution_count": 2,
     "metadata": {},
     "output_type": "execute_result"
    }
   ],
   "source": [
    "# creating the sample dataset\n",
    "experience = [1.2,1.5,1.9,2.2,2.4,2.5,2.8,3.1,3.3,3.7,4.2,4.4]\n",
    "salary     = [1.7,2.4,2.3,3.1,3.7,4.2,4.4,6.1,5.4,5.7,6.4,6.2]\n",
    "\n",
    "data = pd.DataFrame({\n",
    "    \"salary\" : salary,\n",
    "    \"experience\"   : experience\n",
    "})\n",
    "data.head()"
   ]
  },
  {
   "cell_type": "markdown",
   "metadata": {
    "colab_type": "text",
    "id": "V5VGnEofXDUh"
   },
   "source": [
    "## Plotting th data"
   ]
  },
  {
   "cell_type": "code",
   "execution_count": 3,
   "metadata": {
    "colab": {
     "base_uri": "https://localhost:8080/",
     "height": 301
    },
    "colab_type": "code",
    "executionInfo": {
     "elapsed": 1256,
     "status": "ok",
     "timestamp": 1563261344516,
     "user": {
      "displayName": "Sharoon Saxena",
      "photoUrl": "",
      "userId": "14774175216384036942"
     },
     "user_tz": -330
    },
    "id": "DdENo57dj6hn",
    "outputId": "1f99a65d-d7e5-4e4c-e2a6-070b814d484f"
   },
   "outputs": [
    {
     "data": {
      "image/png": "[encoded data removed]",
      "text/plain": [
       "<Figure size 432x288 with 1 Axes>"
      ]
     },
     "metadata": {
      "needs_background": "light"
     },
     "output_type": "display_data"
    }
   ],
   "source": [
    "# plotting the data\n",
    "plt.scatter(data.experience, data.salary, color = 'red', label = 'data points')\n",
    "plt.xlim(1,4.5)\n",
    "plt.ylim(1,7)\n",
    "plt.xlabel('experience')\n",
    "plt.ylabel('salary')\n",
    "plt.legend();"
   ]
  },
  {
   "cell_type": "markdown",
   "metadata": {
    "colab_type": "text",
    "id": "XrG641GxmFfl"
   },
   "source": [
    "## Starting the Line using small values of parameters"
   ]
  },
  {
   "cell_type": "code",
   "execution_count": 7,
   "metadata": {
    "colab": {
     "base_uri": "https://localhost:8080/",
     "height": 295
    },
    "colab_type": "code",
    "executionInfo": {
     "elapsed": 1623,
     "status": "ok",
     "timestamp": 1563262245502,
     "user": {
      "displayName": "Sharoon Saxena",
      "photoUrl": "",
      "userId": "14774175216384036942"
     },
     "user_tz": -330
    },
    "id": "aToNdLtGkxVR",
    "outputId": "9c228118-8233-48df-904f-a8fe530429fe"
   },
   "outputs": [
    {
     "data": {
      "image/png": "[encoded data removed]",
      "text/plain": [
       "<Figure size 432x288 with 1 Axes>"
      ]
     },
     "metadata": {
      "needs_background": "light"
     },
     "output_type": "display_data"
    }
   ],
   "source": [
    "# making lines for different Values of Beta 0.1, 0.8, 1.5\n",
    "beta = 1.2\n",
    "# keeping intercept constant\n",
    "b = 1.1\n",
    "\n",
    "# to store predicted points\n",
    "line1 = []\n",
    "\n",
    "# generating predictions for every data point\n",
    "for i in range(len(data)):\n",
    "    line1.append(data.experience[i]*beta + b)\n",
    "    \n",
    "# Plotting the line\n",
    "plt.scatter(data.experience, data.salary, color = 'red')\n",
    "plt.plot(data.experience, line1, color = 'black', label = 'line')\n",
    "plt.xlim(1,4.5)\n",
    "plt.ylim(1,7)\n",
    "plt.xlabel('Experience')\n",
    "plt.ylabel('Salary')\n",
    "plt.legend()\n",
    "MSE = mse(data.salary, line1)\n",
    "plt.title(\"Beta value \"+str(beta)+\" with MSE \"+ str(MSE))\n",
    "MSE = mse(data.salary, line1)"
   ]
  },
  {
   "cell_type": "markdown",
   "metadata": {
    "colab_type": "text",
    "id": "2jQjyBbX_2jU"
   },
   "source": [
    "<img src=\"images/Multiple_plots.png\">"
   ]
  },
  {
   "cell_type": "markdown",
   "metadata": {
    "colab_type": "text",
    "id": "Jay4VzpOYNoS"
   },
   "source": [
    "## Computing Cost over a range of values of Beta"
   ]
  },
  {
   "cell_type": "code",
   "execution_count": 8,
   "metadata": {
    "colab": {},
    "colab_type": "code",
    "id": "qutpG7MHPE6a"
   },
   "outputs": [],
   "source": [
    "# function to calculate error\n",
    "\n",
    "def Error(Beta, data):\n",
    "  # b is constant\n",
    "    b = 1.1\n",
    "  \n",
    "    salary = []\n",
    "    experience  = data.experience\n",
    "  \n",
    "  # Loop to calculate predict salary variables\n",
    "    for i in range(len(data.experience)):\n",
    "        tmp = data.experience[i] * Beta + b\n",
    "        salary.append(tmp)\n",
    "    MSE = mse(data.salary, salary)\n",
    "    return MSE"
   ]
  },
  {
   "cell_type": "code",
   "execution_count": 9,
   "metadata": {},
   "outputs": [
    {
     "data": {
      "text/plain": [
       "[0.0,\n",
       " 0.01,\n",
       " 0.02,\n",
       " 0.03,\n",
       " 0.04,\n",
       " 0.05,\n",
       " 0.06,\n",
       " 0.07,\n",
       " 0.08,\n",
       " 0.09,\n",
       " 0.1,\n",
       " 0.11,\n",
       " 0.12,\n",
       " 0.13,\n",
       " 0.14,\n",
       " 0.15,\n",
       " 0.16,\n",
       " 0.17,\n",
       " 0.18,\n",
       " 0.19,\n",
       " 0.2,\n",
       " 0.21,\n",
       " 0.22,\n",
       " 0.23,\n",
       " 0.24,\n",
       " 0.25,\n",
       " 0.26,\n",
       " 0.27,\n",
       " 0.28,\n",
       " 0.29,\n",
       " 0.3,\n",
       " 0.31,\n",
       " 0.32,\n",
       " 0.33,\n",
       " 0.34,\n",
       " 0.35,\n",
       " 0.36,\n",
       " 0.37,\n",
       " 0.38,\n",
       " 0.39,\n",
       " 0.4,\n",
       " 0.41,\n",
       " 0.42,\n",
       " 0.43,\n",
       " 0.44,\n",
       " 0.45,\n",
       " 0.46,\n",
       " 0.47,\n",
       " 0.48,\n",
       " 0.49,\n",
       " 0.5,\n",
       " 0.51,\n",
       " 0.52,\n",
       " 0.53,\n",
       " 0.54,\n",
       " 0.55,\n",
       " 0.56,\n",
       " 0.57,\n",
       " 0.58,\n",
       " 0.59,\n",
       " 0.6,\n",
       " 0.61,\n",
       " 0.62,\n",
       " 0.63,\n",
       " 0.64,\n",
       " 0.65,\n",
       " 0.66,\n",
       " 0.67,\n",
       " 0.68,\n",
       " 0.69,\n",
       " 0.7,\n",
       " 0.71,\n",
       " 0.72,\n",
       " 0.73,\n",
       " 0.74,\n",
       " 0.75,\n",
       " 0.76,\n",
       " 0.77,\n",
       " 0.78,\n",
       " 0.79,\n",
       " 0.8,\n",
       " 0.81,\n",
       " 0.82,\n",
       " 0.83,\n",
       " 0.84,\n",
       " 0.85,\n",
       " 0.86,\n",
       " 0.87,\n",
       " 0.88,\n",
       " 0.89,\n",
       " 0.9,\n",
       " 0.91,\n",
       " 0.92,\n",
       " 0.93,\n",
       " 0.94,\n",
       " 0.95,\n",
       " 0.96,\n",
       " 0.97,\n",
       " 0.98,\n",
       " 0.99,\n",
       " 1.0,\n",
       " 1.01,\n",
       " 1.02,\n",
       " 1.03,\n",
       " 1.04,\n",
       " 1.05,\n",
       " 1.06,\n",
       " 1.07,\n",
       " 1.08,\n",
       " 1.09,\n",
       " 1.1,\n",
       " 1.11,\n",
       " 1.12,\n",
       " 1.13,\n",
       " 1.14,\n",
       " 1.15,\n",
       " 1.16,\n",
       " 1.17,\n",
       " 1.18,\n",
       " 1.19,\n",
       " 1.2,\n",
       " 1.21,\n",
       " 1.22,\n",
       " 1.23,\n",
       " 1.24,\n",
       " 1.25,\n",
       " 1.26,\n",
       " 1.27,\n",
       " 1.28,\n",
       " 1.29,\n",
       " 1.3,\n",
       " 1.31,\n",
       " 1.32,\n",
       " 1.33,\n",
       " 1.34,\n",
       " 1.35,\n",
       " 1.36,\n",
       " 1.37,\n",
       " 1.38,\n",
       " 1.39,\n",
       " 1.4,\n",
       " 1.41,\n",
       " 1.42,\n",
       " 1.43,\n",
       " 1.44,\n",
       " 1.45,\n",
       " 1.46,\n",
       " 1.47,\n",
       " 1.48,\n",
       " 1.49,\n",
       " 1.5,\n",
       " 1.51,\n",
       " 1.52,\n",
       " 1.53,\n",
       " 1.54,\n",
       " 1.55,\n",
       " 1.56,\n",
       " 1.57,\n",
       " 1.58,\n",
       " 1.59,\n",
       " 1.6,\n",
       " 1.61,\n",
       " 1.62,\n",
       " 1.63,\n",
       " 1.64,\n",
       " 1.65,\n",
       " 1.66,\n",
       " 1.67,\n",
       " 1.68,\n",
       " 1.69,\n",
       " 1.7,\n",
       " 1.71,\n",
       " 1.72,\n",
       " 1.73,\n",
       " 1.74,\n",
       " 1.75,\n",
       " 1.76,\n",
       " 1.77,\n",
       " 1.78,\n",
       " 1.79,\n",
       " 1.8,\n",
       " 1.81,\n",
       " 1.82,\n",
       " 1.83,\n",
       " 1.84,\n",
       " 1.85,\n",
       " 1.86,\n",
       " 1.87,\n",
       " 1.88,\n",
       " 1.89,\n",
       " 1.9,\n",
       " 1.91,\n",
       " 1.92,\n",
       " 1.93,\n",
       " 1.94,\n",
       " 1.95,\n",
       " 1.96,\n",
       " 1.97,\n",
       " 1.98,\n",
       " 1.99]"
      ]
     },
     "execution_count": 9,
     "metadata": {},
     "output_type": "execute_result"
    }
   ],
   "source": [
    "slope = [i/100 for i in range(0,200)]\n",
    "slope"
   ]
  },
  {
   "cell_type": "code",
   "execution_count": 10,
   "metadata": {
    "colab": {},
    "colab_type": "code",
    "id": "GZUCsxP5QHb-"
   },
   "outputs": [],
   "source": [
    "# Range of slopes from 0 to 1.5 with increment of 0.01\n",
    "slope = [i/100 for i in range(0,200)]\n",
    "Cost = []\n",
    "for i in slope:\n",
    "    cost = Error( Beta = i, data = data)\n",
    "    Cost.append(cost)"
   ]
  },
  {
   "cell_type": "code",
   "execution_count": 11,
   "metadata": {},
   "outputs": [
    {
     "data": {
      "text/plain": [
       "[12.791666666666666,\n",
       " 12.5858765,\n",
       " 12.381806,\n",
       " 12.179455166666669,\n",
       " 11.978824000000001,\n",
       " 11.779912500000002,\n",
       " 11.582720666666667,\n",
       " 11.3872485,\n",
       " 11.193496000000003,\n",
       " 11.00146316666667,\n",
       " 10.81115,\n",
       " 10.6225565,\n",
       " 10.435682666666668,\n",
       " 10.2505285,\n",
       " 10.067093999999999,\n",
       " 9.885379166666667,\n",
       " 9.705384,\n",
       " 9.527108499999999,\n",
       " 9.350552666666667,\n",
       " 9.1757165,\n",
       " 9.0026,\n",
       " 8.831203166666667,\n",
       " 8.661526,\n",
       " 8.493568499999999,\n",
       " 8.327330666666667,\n",
       " 8.1628125,\n",
       " 8.000014,\n",
       " 7.8389351666666665,\n",
       " 7.679576,\n",
       " 7.5219365,\n",
       " 7.366016666666666,\n",
       " 7.2118165,\n",
       " 7.059335999999999,\n",
       " 6.908575166666665,\n",
       " 6.759533999999999,\n",
       " 6.612212500000001,\n",
       " 6.466610666666667,\n",
       " 6.3227285,\n",
       " 6.180566,\n",
       " 6.040123166666667,\n",
       " 5.9014,\n",
       " 5.7643965,\n",
       " 5.629112666666668,\n",
       " 5.495548500000001,\n",
       " 5.363703999999999,\n",
       " 5.233579166666667,\n",
       " 5.105174000000001,\n",
       " 4.978488500000001,\n",
       " 4.853522666666667,\n",
       " 4.7302765,\n",
       " 4.608750000000001,\n",
       " 4.488943166666666,\n",
       " 4.370856000000001,\n",
       " 4.2544885,\n",
       " 4.139840666666666,\n",
       " 4.0269125,\n",
       " 3.915704,\n",
       " 3.8062151666666675,\n",
       " 3.698446,\n",
       " 3.5923965,\n",
       " 3.4880666666666666,\n",
       " 3.3854565,\n",
       " 3.284566,\n",
       " 3.1853951666666673,\n",
       " 3.087944,\n",
       " 2.9922124999999995,\n",
       " 2.898200666666666,\n",
       " 2.8059084999999997,\n",
       " 2.7153359999999993,\n",
       " 2.626483166666667,\n",
       " 2.53935,\n",
       " 2.4539365000000006,\n",
       " 2.3702426666666665,\n",
       " 2.2882685000000005,\n",
       " 2.208014,\n",
       " 2.1294791666666666,\n",
       " 2.0526639999999996,\n",
       " 1.9775685,\n",
       " 1.9041926666666666,\n",
       " 1.8325364999999996,\n",
       " 1.762599999999999,\n",
       " 1.6943831666666664,\n",
       " 1.6278860000000004,\n",
       " 1.5631085,\n",
       " 1.5000506666666666,\n",
       " 1.4387125000000003,\n",
       " 1.3790940000000003,\n",
       " 1.3211951666666666,\n",
       " 1.265016,\n",
       " 1.2105564999999996,\n",
       " 1.1578166666666665,\n",
       " 1.1067964999999995,\n",
       " 1.0574959999999995,\n",
       " 1.0099151666666664,\n",
       " 0.9640540000000004,\n",
       " 0.9199125000000005,\n",
       " 0.8774906666666668,\n",
       " 0.8367885,\n",
       " 0.7978060000000003,\n",
       " 0.7605431666666665,\n",
       " 0.7249999999999998,\n",
       " 0.6911765000000001,\n",
       " 0.6590726666666665,\n",
       " 0.6286884999999999,\n",
       " 0.600024,\n",
       " 0.5730791666666667,\n",
       " 0.5478539999999995,\n",
       " 0.5243484999999998,\n",
       " 0.5025626666666665,\n",
       " 0.4824964999999997,\n",
       " 0.4641499999999998,\n",
       " 0.4475231666666665,\n",
       " 0.43261599999999967,\n",
       " 0.41942850000000015,\n",
       " 0.4079606666666667,\n",
       " 0.3982124999999999,\n",
       " 0.39018400000000014,\n",
       " 0.3838751666666665,\n",
       " 0.3792860000000002,\n",
       " 0.37641649999999993,\n",
       " 0.3752666666666666,\n",
       " 0.3758364999999999,\n",
       " 0.37812600000000013,\n",
       " 0.3821351666666666,\n",
       " 0.387864,\n",
       " 0.3953125000000001,\n",
       " 0.40448066666666666,\n",
       " 0.41536849999999986,\n",
       " 0.4279760000000001,\n",
       " 0.4423031666666668,\n",
       " 0.45835,\n",
       " 0.4761165000000002,\n",
       " 0.49560266666666686,\n",
       " 0.5168085000000003,\n",
       " 0.539734,\n",
       " 0.5643791666666669,\n",
       " 0.5907440000000004,\n",
       " 0.6188285000000004,\n",
       " 0.6486326666666665,\n",
       " 0.6801564999999993,\n",
       " 0.7133999999999996,\n",
       " 0.7483631666666665,\n",
       " 0.7850459999999998,\n",
       " 0.8234484999999996,\n",
       " 0.8635706666666665,\n",
       " 0.9054124999999997,\n",
       " 0.9489740000000001,\n",
       " 0.9942551666666665,\n",
       " 1.041256,\n",
       " 1.0899765,\n",
       " 1.1404166666666662,\n",
       " 1.1925765000000002,\n",
       " 1.246456,\n",
       " 1.302055166666667,\n",
       " 1.359374,\n",
       " 1.4184125000000005,\n",
       " 1.4791706666666666,\n",
       " 1.5416485000000009,\n",
       " 1.6058460000000006,\n",
       " 1.6717631666666675,\n",
       " 1.7394000000000007,\n",
       " 1.808756500000001,\n",
       " 1.8798326666666674,\n",
       " 1.9526284999999992,\n",
       " 2.0271439999999994,\n",
       " 2.1033791666666652,\n",
       " 2.181333999999999,\n",
       " 2.2610084999999995,\n",
       " 2.342402666666667,\n",
       " 2.4255164999999996,\n",
       " 2.5103499999999994,\n",
       " 2.596903166666667,\n",
       " 2.6851760000000007,\n",
       " 2.7751684999999995,\n",
       " 2.866880666666667,\n",
       " 2.960312500000001,\n",
       " 3.0554640000000006,\n",
       " 3.1523351666666675,\n",
       " 3.2509259999999998,\n",
       " 3.3512365000000006,\n",
       " 3.4532666666666665,\n",
       " 3.557016500000001,\n",
       " 3.6624860000000012,\n",
       " 3.769675166666669,\n",
       " 3.878584000000003,\n",
       " 3.9892125000000007,\n",
       " 4.101560666666668,\n",
       " 4.215628500000002,\n",
       " 4.331415999999998,\n",
       " 4.448923166666666,\n",
       " 4.568149999999999,\n",
       " 4.689096499999999,\n",
       " 4.811762666666666,\n",
       " 4.936148499999999,\n",
       " 5.0622539999999985,\n",
       " 5.190079166666665,\n",
       " 5.319623999999999,\n",
       " 5.4508885000000005,\n",
       " 5.583872666666665,\n",
       " 5.7185765]"
      ]
     },
     "execution_count": 11,
     "metadata": {},
     "output_type": "execute_result"
    }
   ],
   "source": [
    "Cost"
   ]
  },
  {
   "cell_type": "code",
   "execution_count": 12,
   "metadata": {
    "colab": {
     "base_uri": "https://localhost:8080/",
     "height": 198
    },
    "colab_type": "code",
    "executionInfo": {
     "elapsed": 2403,
     "status": "ok",
     "timestamp": 1563261832066,
     "user": {
      "displayName": "Sharoon Saxena",
      "photoUrl": "",
      "userId": "14774175216384036942"
     },
     "user_tz": -330
    },
    "id": "TkTVWJE3UL1y",
    "outputId": "bb47ebe9-2b86-4567-d5b5-18a46b0ead68"
   },
   "outputs": [
    {
     "data": {
      "text/html": [
       "<div>\n",
       "<style scoped>\n",
       "    .dataframe tbody tr th:only-of-type {\n",
       "        vertical-align: middle;\n",
       "    }\n",
       "\n",
       "    .dataframe tbody tr th {\n",
       "        vertical-align: top;\n",
       "    }\n",
       "\n",
       "    .dataframe thead th {\n",
       "        text-align: right;\n",
       "    }\n",
       "</style>\n",
       "<table border=\"1\" class=\"dataframe\">\n",
       "  <thead>\n",
       "    <tr style=\"text-align: right;\">\n",
       "      <th></th>\n",
       "      <th>Beta</th>\n",
       "      <th>Cost</th>\n",
       "    </tr>\n",
       "  </thead>\n",
       "  <tbody>\n",
       "    <tr>\n",
       "      <th>0</th>\n",
       "      <td>0.00</td>\n",
       "      <td>12.791667</td>\n",
       "    </tr>\n",
       "    <tr>\n",
       "      <th>1</th>\n",
       "      <td>0.01</td>\n",
       "      <td>12.585876</td>\n",
       "    </tr>\n",
       "    <tr>\n",
       "      <th>2</th>\n",
       "      <td>0.02</td>\n",
       "      <td>12.381806</td>\n",
       "    </tr>\n",
       "    <tr>\n",
       "      <th>3</th>\n",
       "      <td>0.03</td>\n",
       "      <td>12.179455</td>\n",
       "    </tr>\n",
       "    <tr>\n",
       "      <th>4</th>\n",
       "      <td>0.04</td>\n",
       "      <td>11.978824</td>\n",
       "    </tr>\n",
       "  </tbody>\n",
       "</table>\n",
       "</div>"
      ],
      "text/plain": [
       "   Beta       Cost\n",
       "0  0.00  12.791667\n",
       "1  0.01  12.585876\n",
       "2  0.02  12.381806\n",
       "3  0.03  12.179455\n",
       "4  0.04  11.978824"
      ]
     },
     "execution_count": 12,
     "metadata": {},
     "output_type": "execute_result"
    }
   ],
   "source": [
    "# Arranging in DataFrame\n",
    "Cost_table = pd.DataFrame({\n",
    "    'Beta' : slope,\n",
    "    'Cost' : Cost\n",
    "})\n",
    "Cost_table.head()"
   ]
  },
  {
   "cell_type": "markdown",
   "metadata": {
    "colab_type": "text",
    "id": "SjZYXIulZ2bA"
   },
   "source": [
    "## Visualising cost with respect to Beta"
   ]
  },
  {
   "cell_type": "code",
   "execution_count": 13,
   "metadata": {
    "colab": {
     "base_uri": "https://localhost:8080/",
     "height": 301
    },
    "colab_type": "code",
    "executionInfo": {
     "elapsed": 3515,
     "status": "ok",
     "timestamp": 1563261833553,
     "user": {
      "displayName": "Sharoon Saxena",
      "photoUrl": "",
      "userId": "14774175216384036942"
     },
     "user_tz": -330
    },
    "id": "UN-dV1GUU6RH",
    "outputId": "f507fcf8-bf93-42b2-c2e8-370f54094f0a"
   },
   "outputs": [
    {
     "data": {
      "image/png": "[encoded data removed]",
      "text/plain": [
       "<Figure size 432x288 with 1 Axes>"
      ]
     },
     "metadata": {
      "needs_background": "light"
     },
     "output_type": "display_data"
    }
   ],
   "source": [
    "# plotting the cost values corresponding to every value of Beta\n",
    "plt.plot(Cost_table.Beta, Cost_table.Cost, color = 'blue', label = 'Cost Function Curve')\n",
    "plt.xlabel('Value of Beta')\n",
    "plt.ylabel('Cost')\n",
    "plt.legend();"
   ]
  },
  {
   "cell_type": "markdown",
   "metadata": {
    "colab_type": "text",
    "id": "xiJVhQ04-kn1"
   },
   "source": [
    "<img src=\"images/3d_convex.jpg\">"
   ]
  },
  {
   "cell_type": "markdown",
   "metadata": {
    "colab_type": "text",
    "id": "fIUchenLYi30"
   },
   "source": [
    "## But what if we are given...\n",
    "# $Y = ß_1X_1 + ß_2X_2 + ß_3X_3 ... + ß_nX_n + b$\n"
   ]
  }
 ],
 "metadata": {
  "colab": {
   "collapsed_sections": [],
   "name": "cost_function.ipynb",
   "provenance": [],
   "version": "0.3.2"
  },
  "kernelspec": {
   "display_name": "Python 3",
   "language": "python",
   "name": "python3"
  },
  "language_info": {
   "codemirror_mode": {
    "name": "ipython",
    "version": 3
   },
   "file_extension": ".py",
   "mimetype": "text/x-python",
   "name": "python",
   "nbconvert_exporter": "python",
   "pygments_lexer": "ipython3",
   "version": "3.8.8"
  }
 },
 "nbformat": 4,
 "nbformat_minor": 1
}
